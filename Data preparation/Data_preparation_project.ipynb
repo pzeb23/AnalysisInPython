{
 "cells": [
  {
   "cell_type": "code",
<<<<<<< HEAD
   "execution_count": 1,
=======
   "execution_count": 7,
>>>>>>> e87b6d9cad69d11897086871c5cd5e8948e40979
   "metadata": {},
   "outputs": [],
   "source": [
    "import pandas as pd\n",
    "import numpy as np"
   ]
  },
  {
   "cell_type": "code",
<<<<<<< HEAD
   "execution_count": 19,
=======
   "execution_count": 190,
>>>>>>> e87b6d9cad69d11897086871c5cd5e8948e40979
   "metadata": {},
   "outputs": [],
   "source": [
    "data = pd.read_csv('Data_prep.csv', low_memory = False)"
   ]
  },
  {
   "cell_type": "code",
<<<<<<< HEAD
   "execution_count": 3,
=======
   "execution_count": 9,
>>>>>>> e87b6d9cad69d11897086871c5cd5e8948e40979
   "metadata": {},
   "outputs": [],
   "source": [
    "col_desc = pd.read_csv('Column_dictionary.csv', low_memory = False)"
   ]
  },
  {
   "cell_type": "code",
<<<<<<< HEAD
   "execution_count": 4,
=======
   "execution_count": 10,
>>>>>>> e87b6d9cad69d11897086871c5cd5e8948e40979
   "metadata": {},
   "outputs": [
    {
     "data": {
      "text/html": [
       "<div>\n",
       "<style scoped>\n",
       "    .dataframe tbody tr th:only-of-type {\n",
       "        vertical-align: middle;\n",
       "    }\n",
       "\n",
       "    .dataframe tbody tr th {\n",
       "        vertical-align: top;\n",
       "    }\n",
       "\n",
       "    .dataframe thead th {\n",
       "        text-align: right;\n",
       "    }\n",
       "</style>\n",
       "<table border=\"1\" class=\"dataframe\">\n",
       "  <thead>\n",
       "    <tr style=\"text-align: right;\">\n",
       "      <th></th>\n",
       "      <th>communityname</th>\n",
       "      <th>state</th>\n",
       "      <th>countyCode</th>\n",
       "      <th>communityCode</th>\n",
       "      <th>fold</th>\n",
       "      <th>population</th>\n",
       "      <th>householdsize</th>\n",
       "      <th>racepctblack</th>\n",
       "      <th>racePctWhite</th>\n",
       "      <th>racePctAsian</th>\n",
       "      <th>...</th>\n",
       "      <th>burglaries</th>\n",
       "      <th>burglPerPop</th>\n",
       "      <th>larcenies</th>\n",
       "      <th>larcPerPop</th>\n",
       "      <th>autoTheft</th>\n",
       "      <th>autoTheftPerPop</th>\n",
       "      <th>arsons</th>\n",
       "      <th>arsonsPerPop</th>\n",
       "      <th>ViolentCrimesPerPop</th>\n",
       "      <th>nonViolPerPop</th>\n",
       "    </tr>\n",
       "  </thead>\n",
       "  <tbody>\n",
       "    <tr>\n",
       "      <th>0</th>\n",
       "      <td>BerkeleyHeightstownship</td>\n",
       "      <td>NJ</td>\n",
       "      <td>39</td>\n",
       "      <td>5320</td>\n",
       "      <td>1</td>\n",
       "      <td>11980</td>\n",
       "      <td>3.10</td>\n",
       "      <td>1.37</td>\n",
       "      <td>91.78</td>\n",
       "      <td>6.50</td>\n",
       "      <td>...</td>\n",
       "      <td>14</td>\n",
       "      <td>114.85</td>\n",
       "      <td>138</td>\n",
       "      <td>1132.08</td>\n",
       "      <td>16</td>\n",
       "      <td>131.26</td>\n",
       "      <td>2</td>\n",
       "      <td>16.41</td>\n",
       "      <td>41.02</td>\n",
       "      <td>1394.59</td>\n",
       "    </tr>\n",
       "    <tr>\n",
       "      <th>1</th>\n",
       "      <td>Marpletownship</td>\n",
       "      <td>PA</td>\n",
       "      <td>45</td>\n",
       "      <td>47616</td>\n",
       "      <td>1</td>\n",
       "      <td>23123</td>\n",
       "      <td>2.82</td>\n",
       "      <td>0.80</td>\n",
       "      <td>95.57</td>\n",
       "      <td>3.44</td>\n",
       "      <td>...</td>\n",
       "      <td>57</td>\n",
       "      <td>242.37</td>\n",
       "      <td>376</td>\n",
       "      <td>1598.78</td>\n",
       "      <td>26</td>\n",
       "      <td>110.55</td>\n",
       "      <td>1</td>\n",
       "      <td>4.25</td>\n",
       "      <td>127.56</td>\n",
       "      <td>1955.95</td>\n",
       "    </tr>\n",
       "    <tr>\n",
       "      <th>2</th>\n",
       "      <td>Tigardcity</td>\n",
       "      <td>OR</td>\n",
       "      <td>?</td>\n",
       "      <td>?</td>\n",
       "      <td>1</td>\n",
       "      <td>29344</td>\n",
       "      <td>2.43</td>\n",
       "      <td>0.74</td>\n",
       "      <td>94.33</td>\n",
       "      <td>3.43</td>\n",
       "      <td>...</td>\n",
       "      <td>274</td>\n",
       "      <td>758.14</td>\n",
       "      <td>1797</td>\n",
       "      <td>4972.19</td>\n",
       "      <td>136</td>\n",
       "      <td>376.3</td>\n",
       "      <td>22</td>\n",
       "      <td>60.87</td>\n",
       "      <td>218.59</td>\n",
       "      <td>6167.51</td>\n",
       "    </tr>\n",
       "    <tr>\n",
       "      <th>3</th>\n",
       "      <td>Gloversvillecity</td>\n",
       "      <td>NY</td>\n",
       "      <td>35</td>\n",
       "      <td>29443</td>\n",
       "      <td>1</td>\n",
       "      <td>16656</td>\n",
       "      <td>2.40</td>\n",
       "      <td>1.70</td>\n",
       "      <td>97.35</td>\n",
       "      <td>0.50</td>\n",
       "      <td>...</td>\n",
       "      <td>225</td>\n",
       "      <td>1301.78</td>\n",
       "      <td>716</td>\n",
       "      <td>4142.56</td>\n",
       "      <td>47</td>\n",
       "      <td>271.93</td>\n",
       "      <td>?</td>\n",
       "      <td>?</td>\n",
       "      <td>306.64</td>\n",
       "      <td>?</td>\n",
       "    </tr>\n",
       "    <tr>\n",
       "      <th>4</th>\n",
       "      <td>Bemidjicity</td>\n",
       "      <td>MN</td>\n",
       "      <td>7</td>\n",
       "      <td>5068</td>\n",
       "      <td>1</td>\n",
       "      <td>11245</td>\n",
       "      <td>2.76</td>\n",
       "      <td>0.53</td>\n",
       "      <td>89.16</td>\n",
       "      <td>1.17</td>\n",
       "      <td>...</td>\n",
       "      <td>91</td>\n",
       "      <td>728.93</td>\n",
       "      <td>1060</td>\n",
       "      <td>8490.87</td>\n",
       "      <td>91</td>\n",
       "      <td>728.93</td>\n",
       "      <td>5</td>\n",
       "      <td>40.05</td>\n",
       "      <td>?</td>\n",
       "      <td>9988.79</td>\n",
       "    </tr>\n",
       "  </tbody>\n",
       "</table>\n",
       "<p>5 rows × 147 columns</p>\n",
       "</div>"
      ],
      "text/plain": [
       "             communityname state countyCode communityCode  fold  population  \\\n",
       "0  BerkeleyHeightstownship    NJ         39          5320     1       11980   \n",
       "1           Marpletownship    PA         45         47616     1       23123   \n",
       "2               Tigardcity    OR          ?             ?     1       29344   \n",
       "3         Gloversvillecity    NY         35         29443     1       16656   \n",
       "4              Bemidjicity    MN          7          5068     1       11245   \n",
       "\n",
       "   householdsize  racepctblack  racePctWhite  racePctAsian  ...  burglaries  \\\n",
       "0           3.10          1.37         91.78          6.50  ...          14   \n",
       "1           2.82          0.80         95.57          3.44  ...          57   \n",
       "2           2.43          0.74         94.33          3.43  ...         274   \n",
       "3           2.40          1.70         97.35          0.50  ...         225   \n",
       "4           2.76          0.53         89.16          1.17  ...          91   \n",
       "\n",
       "   burglPerPop  larcenies  larcPerPop  autoTheft  autoTheftPerPop  arsons  \\\n",
       "0       114.85        138     1132.08         16           131.26       2   \n",
       "1       242.37        376     1598.78         26           110.55       1   \n",
       "2       758.14       1797     4972.19        136            376.3      22   \n",
       "3      1301.78        716     4142.56         47           271.93       ?   \n",
       "4       728.93       1060     8490.87         91           728.93       5   \n",
       "\n",
       "   arsonsPerPop  ViolentCrimesPerPop  nonViolPerPop  \n",
       "0         16.41                41.02        1394.59  \n",
       "1          4.25               127.56        1955.95  \n",
       "2         60.87               218.59        6167.51  \n",
       "3             ?               306.64              ?  \n",
       "4         40.05                    ?        9988.79  \n",
       "\n",
       "[5 rows x 147 columns]"
      ]
     },
<<<<<<< HEAD
     "execution_count": 4,
=======
     "execution_count": 10,
>>>>>>> e87b6d9cad69d11897086871c5cd5e8948e40979
     "metadata": {},
     "output_type": "execute_result"
    }
   ],
   "source": [
    "data.head()"
   ]
  },
  {
   "cell_type": "code",
<<<<<<< HEAD
   "execution_count": 5,
=======
   "execution_count": 17,
>>>>>>> e87b6d9cad69d11897086871c5cd5e8948e40979
   "metadata": {},
   "outputs": [],
   "source": [
    "col_desc_list = col_desc.columns.tolist()"
   ]
  },
  {
   "cell_type": "code",
<<<<<<< HEAD
   "execution_count": 6,
=======
   "execution_count": 27,
>>>>>>> e87b6d9cad69d11897086871c5cd5e8948e40979
   "metadata": {},
   "outputs": [],
   "source": [
    "# split values so the dictionary can be created\n",
    "my_list = []\n",
    "\n",
    "for val in col_desc_list:\n",
    "    my_list.append(val.split(':'))"
   ]
  },
  {
   "cell_type": "code",
<<<<<<< HEAD
   "execution_count": 7,
=======
   "execution_count": 33,
>>>>>>> e87b6d9cad69d11897086871c5cd5e8948e40979
   "metadata": {},
   "outputs": [],
   "source": [
    "my_list_keys = []\n",
    "my_list_val = []\n",
    "\n",
    "for val in my_list:\n",
    "    my_list_keys.append(val[0])\n",
    "    my_list_val.append(val[1])"
   ]
  },
  {
   "cell_type": "code",
<<<<<<< HEAD
   "execution_count": 8,
=======
   "execution_count": 36,
>>>>>>> e87b6d9cad69d11897086871c5cd5e8948e40979
   "metadata": {},
   "outputs": [],
   "source": [
    "column_dictionary = dict(zip(my_list_keys, my_list_val))"
   ]
  },
  {
   "cell_type": "code",
<<<<<<< HEAD
   "execution_count": 9,
=======
   "execution_count": null,
>>>>>>> e87b6d9cad69d11897086871c5cd5e8948e40979
   "metadata": {},
   "outputs": [],
   "source": [
    "# 6. dokonać imputacji braków, wybraną metodą, dla przynajmniej 4 różnych zmiennych"
   ]
  },
  {
   "cell_type": "code",
<<<<<<< HEAD
   "execution_count": 10,
   "metadata": {},
   "outputs": [
    {
     "name": "stdout",
     "output_type": "stream",
     "text": [
      "racepctblack 2\n",
      "NumKidsBornNeverMar 5\n",
      "PctKidsBornNeverMar 5\n",
      "OwnOccQrange 5\n",
      "RentQrange 2\n"
     ]
    }
   ],
=======
   "execution_count": 198,
   "metadata": {},
   "outputs": [],
>>>>>>> e87b6d9cad69d11897086871c5cd5e8948e40979
   "source": [
    "# check how many zeroes per column and not more than 6 missing values\n",
    "imp_columns = []\n",
    "\n",
    "for i in range (len(data.isin([0]).sum())):\n",
    "    \n",
    "    if data.isin([0]).sum()[i] != 0 and data.isin([0]).sum()[i] < 6:\n",
    "        \n",
    "        imp_columns.append(data.isin([0]).sum().index[i]) # will use it later\n",
    "        \n",
    "        print(data.isin([0]).sum().index[i], data.isin([0]).sum()[i])"
   ]
  },
  {
   "cell_type": "markdown",
   "metadata": {},
   "source": [
    "# Replacing missing values with the mean value"
   ]
  },
  {
   "cell_type": "code",
<<<<<<< HEAD
   "execution_count": 11,
=======
   "execution_count": 85,
>>>>>>> e87b6d9cad69d11897086871c5cd5e8948e40979
   "metadata": {},
   "outputs": [
    {
     "data": {
      "text/html": [
       "<div>\n",
       "<style scoped>\n",
       "    .dataframe tbody tr th:only-of-type {\n",
       "        vertical-align: middle;\n",
       "    }\n",
       "\n",
       "    .dataframe tbody tr th {\n",
       "        vertical-align: top;\n",
       "    }\n",
       "\n",
       "    .dataframe thead th {\n",
       "        text-align: right;\n",
       "    }\n",
       "</style>\n",
       "<table border=\"1\" class=\"dataframe\">\n",
       "  <thead>\n",
       "    <tr style=\"text-align: right;\">\n",
       "      <th></th>\n",
       "      <th>fold</th>\n",
       "      <th>population</th>\n",
       "      <th>householdsize</th>\n",
       "      <th>racepctblack</th>\n",
       "      <th>racePctWhite</th>\n",
       "      <th>racePctAsian</th>\n",
       "      <th>racePctHisp</th>\n",
       "      <th>agePct12t21</th>\n",
       "      <th>agePct12t29</th>\n",
       "      <th>agePct16t24</th>\n",
       "      <th>...</th>\n",
       "      <th>PctBornSameState</th>\n",
       "      <th>PctSameHouse85</th>\n",
       "      <th>PctSameCity85</th>\n",
       "      <th>PctSameState85</th>\n",
       "      <th>LandArea</th>\n",
       "      <th>PopDens</th>\n",
       "      <th>PctUsePubTrans</th>\n",
       "      <th>LemasPctOfficDrugUn</th>\n",
       "      <th>murders</th>\n",
       "      <th>murdPerPop</th>\n",
       "    </tr>\n",
       "  </thead>\n",
       "  <tbody>\n",
       "    <tr>\n",
       "      <th>count</th>\n",
       "      <td>2215.000000</td>\n",
       "      <td>2.215000e+03</td>\n",
       "      <td>2215.000000</td>\n",
       "      <td>2215.000000</td>\n",
       "      <td>2215.000000</td>\n",
       "      <td>2215.000000</td>\n",
       "      <td>2215.000000</td>\n",
       "      <td>2215.000000</td>\n",
       "      <td>2215.000000</td>\n",
       "      <td>2215.000000</td>\n",
       "      <td>...</td>\n",
       "      <td>2215.000000</td>\n",
       "      <td>2215.000000</td>\n",
       "      <td>2215.000000</td>\n",
       "      <td>2215.000000</td>\n",
       "      <td>2215.000000</td>\n",
       "      <td>2215.000000</td>\n",
       "      <td>2215.000000</td>\n",
       "      <td>2215.000000</td>\n",
       "      <td>2215.000000</td>\n",
       "      <td>2215.000000</td>\n",
       "    </tr>\n",
       "    <tr>\n",
       "      <th>mean</th>\n",
       "      <td>5.494357</td>\n",
       "      <td>5.311798e+04</td>\n",
       "      <td>2.707327</td>\n",
       "      <td>9.335102</td>\n",
       "      <td>83.979819</td>\n",
       "      <td>2.670203</td>\n",
       "      <td>7.950176</td>\n",
       "      <td>14.445837</td>\n",
       "      <td>27.644840</td>\n",
       "      <td>13.975142</td>\n",
       "      <td>...</td>\n",
       "      <td>61.539630</td>\n",
       "      <td>51.538596</td>\n",
       "      <td>77.411079</td>\n",
       "      <td>88.111865</td>\n",
       "      <td>27.419955</td>\n",
       "      <td>2783.835034</td>\n",
       "      <td>3.041124</td>\n",
       "      <td>0.980163</td>\n",
       "      <td>7.764786</td>\n",
       "      <td>5.859296</td>\n",
       "    </tr>\n",
       "    <tr>\n",
       "      <th>std</th>\n",
       "      <td>2.872924</td>\n",
       "      <td>2.046203e+05</td>\n",
       "      <td>0.334120</td>\n",
       "      <td>14.247156</td>\n",
       "      <td>16.419080</td>\n",
       "      <td>4.473843</td>\n",
       "      <td>14.589832</td>\n",
       "      <td>4.518623</td>\n",
       "      <td>6.181517</td>\n",
       "      <td>5.970747</td>\n",
       "      <td>...</td>\n",
       "      <td>16.750061</td>\n",
       "      <td>10.517926</td>\n",
       "      <td>10.878186</td>\n",
       "      <td>7.287836</td>\n",
       "      <td>109.822600</td>\n",
       "      <td>2828.993341</td>\n",
       "      <td>4.912917</td>\n",
       "      <td>2.877128</td>\n",
       "      <td>58.166468</td>\n",
       "      <td>9.156829</td>\n",
       "    </tr>\n",
       "    <tr>\n",
       "      <th>min</th>\n",
       "      <td>1.000000</td>\n",
       "      <td>1.000500e+04</td>\n",
       "      <td>1.600000</td>\n",
       "      <td>0.000000</td>\n",
       "      <td>2.680000</td>\n",
       "      <td>0.030000</td>\n",
       "      <td>0.120000</td>\n",
       "      <td>4.580000</td>\n",
       "      <td>9.380000</td>\n",
       "      <td>4.640000</td>\n",
       "      <td>...</td>\n",
       "      <td>6.750000</td>\n",
       "      <td>11.830000</td>\n",
       "      <td>27.950000</td>\n",
       "      <td>32.830000</td>\n",
       "      <td>0.900000</td>\n",
       "      <td>10.000000</td>\n",
       "      <td>0.000000</td>\n",
       "      <td>0.000000</td>\n",
       "      <td>0.000000</td>\n",
       "      <td>0.000000</td>\n",
       "    </tr>\n",
       "    <tr>\n",
       "      <th>25%</th>\n",
       "      <td>3.000000</td>\n",
       "      <td>1.436600e+04</td>\n",
       "      <td>2.500000</td>\n",
       "      <td>0.860000</td>\n",
       "      <td>76.320000</td>\n",
       "      <td>0.620000</td>\n",
       "      <td>0.930000</td>\n",
       "      <td>12.250000</td>\n",
       "      <td>24.415000</td>\n",
       "      <td>11.320000</td>\n",
       "      <td>...</td>\n",
       "      <td>50.110000</td>\n",
       "      <td>44.995000</td>\n",
       "      <td>72.060000</td>\n",
       "      <td>85.200000</td>\n",
       "      <td>7.300000</td>\n",
       "      <td>1181.900000</td>\n",
       "      <td>0.360000</td>\n",
       "      <td>0.000000</td>\n",
       "      <td>0.000000</td>\n",
       "      <td>0.000000</td>\n",
       "    </tr>\n",
       "    <tr>\n",
       "      <th>50%</th>\n",
       "      <td>5.000000</td>\n",
       "      <td>2.279200e+04</td>\n",
       "      <td>2.660000</td>\n",
       "      <td>2.870000</td>\n",
       "      <td>90.350000</td>\n",
       "      <td>1.230000</td>\n",
       "      <td>2.180000</td>\n",
       "      <td>13.620000</td>\n",
       "      <td>26.780000</td>\n",
       "      <td>12.540000</td>\n",
       "      <td>...</td>\n",
       "      <td>64.490000</td>\n",
       "      <td>52.170000</td>\n",
       "      <td>79.490000</td>\n",
       "      <td>90.030000</td>\n",
       "      <td>13.700000</td>\n",
       "      <td>2027.300000</td>\n",
       "      <td>1.220000</td>\n",
       "      <td>0.000000</td>\n",
       "      <td>1.000000</td>\n",
       "      <td>2.170000</td>\n",
       "    </tr>\n",
       "    <tr>\n",
       "      <th>75%</th>\n",
       "      <td>8.000000</td>\n",
       "      <td>4.302400e+04</td>\n",
       "      <td>2.850000</td>\n",
       "      <td>11.145000</td>\n",
       "      <td>96.225000</td>\n",
       "      <td>2.670000</td>\n",
       "      <td>7.810000</td>\n",
       "      <td>15.360000</td>\n",
       "      <td>29.205000</td>\n",
       "      <td>14.345000</td>\n",
       "      <td>...</td>\n",
       "      <td>74.855000</td>\n",
       "      <td>58.740000</td>\n",
       "      <td>85.135000</td>\n",
       "      <td>93.010000</td>\n",
       "      <td>26.100000</td>\n",
       "      <td>3321.700000</td>\n",
       "      <td>3.365000</td>\n",
       "      <td>0.000000</td>\n",
       "      <td>3.000000</td>\n",
       "      <td>8.365000</td>\n",
       "    </tr>\n",
       "    <tr>\n",
       "      <th>max</th>\n",
       "      <td>10.000000</td>\n",
       "      <td>7.322564e+06</td>\n",
       "      <td>5.280000</td>\n",
       "      <td>96.670000</td>\n",
       "      <td>99.630000</td>\n",
       "      <td>57.460000</td>\n",
       "      <td>95.290000</td>\n",
       "      <td>54.400000</td>\n",
       "      <td>70.510000</td>\n",
       "      <td>63.620000</td>\n",
       "      <td>...</td>\n",
       "      <td>93.140000</td>\n",
       "      <td>78.560000</td>\n",
       "      <td>96.590000</td>\n",
       "      <td>99.900000</td>\n",
       "      <td>3569.800000</td>\n",
       "      <td>44229.900000</td>\n",
       "      <td>54.330000</td>\n",
       "      <td>48.440000</td>\n",
       "      <td>1946.000000</td>\n",
       "      <td>91.090000</td>\n",
       "    </tr>\n",
       "  </tbody>\n",
       "</table>\n",
       "<p>8 rows × 104 columns</p>\n",
       "</div>"
      ],
      "text/plain": [
       "              fold    population  householdsize  racepctblack  racePctWhite  \\\n",
       "count  2215.000000  2.215000e+03    2215.000000   2215.000000   2215.000000   \n",
       "mean      5.494357  5.311798e+04       2.707327      9.335102     83.979819   \n",
       "std       2.872924  2.046203e+05       0.334120     14.247156     16.419080   \n",
       "min       1.000000  1.000500e+04       1.600000      0.000000      2.680000   \n",
       "25%       3.000000  1.436600e+04       2.500000      0.860000     76.320000   \n",
       "50%       5.000000  2.279200e+04       2.660000      2.870000     90.350000   \n",
       "75%       8.000000  4.302400e+04       2.850000     11.145000     96.225000   \n",
       "max      10.000000  7.322564e+06       5.280000     96.670000     99.630000   \n",
       "\n",
       "       racePctAsian  racePctHisp  agePct12t21  agePct12t29  agePct16t24  ...  \\\n",
       "count   2215.000000  2215.000000  2215.000000  2215.000000  2215.000000  ...   \n",
       "mean       2.670203     7.950176    14.445837    27.644840    13.975142  ...   \n",
       "std        4.473843    14.589832     4.518623     6.181517     5.970747  ...   \n",
       "min        0.030000     0.120000     4.580000     9.380000     4.640000  ...   \n",
       "25%        0.620000     0.930000    12.250000    24.415000    11.320000  ...   \n",
       "50%        1.230000     2.180000    13.620000    26.780000    12.540000  ...   \n",
       "75%        2.670000     7.810000    15.360000    29.205000    14.345000  ...   \n",
       "max       57.460000    95.290000    54.400000    70.510000    63.620000  ...   \n",
       "\n",
       "       PctBornSameState  PctSameHouse85  PctSameCity85  PctSameState85  \\\n",
       "count       2215.000000     2215.000000    2215.000000     2215.000000   \n",
       "mean          61.539630       51.538596      77.411079       88.111865   \n",
       "std           16.750061       10.517926      10.878186        7.287836   \n",
       "min            6.750000       11.830000      27.950000       32.830000   \n",
       "25%           50.110000       44.995000      72.060000       85.200000   \n",
       "50%           64.490000       52.170000      79.490000       90.030000   \n",
       "75%           74.855000       58.740000      85.135000       93.010000   \n",
       "max           93.140000       78.560000      96.590000       99.900000   \n",
       "\n",
       "          LandArea       PopDens  PctUsePubTrans  LemasPctOfficDrugUn  \\\n",
       "count  2215.000000   2215.000000     2215.000000          2215.000000   \n",
       "mean     27.419955   2783.835034        3.041124             0.980163   \n",
       "std     109.822600   2828.993341        4.912917             2.877128   \n",
       "min       0.900000     10.000000        0.000000             0.000000   \n",
       "25%       7.300000   1181.900000        0.360000             0.000000   \n",
       "50%      13.700000   2027.300000        1.220000             0.000000   \n",
       "75%      26.100000   3321.700000        3.365000             0.000000   \n",
       "max    3569.800000  44229.900000       54.330000            48.440000   \n",
       "\n",
       "           murders   murdPerPop  \n",
       "count  2215.000000  2215.000000  \n",
       "mean      7.764786     5.859296  \n",
       "std      58.166468     9.156829  \n",
       "min       0.000000     0.000000  \n",
       "25%       0.000000     0.000000  \n",
       "50%       1.000000     2.170000  \n",
       "75%       3.000000     8.365000  \n",
       "max    1946.000000    91.090000  \n",
       "\n",
       "[8 rows x 104 columns]"
      ]
     },
<<<<<<< HEAD
     "execution_count": 11,
=======
     "execution_count": 85,
>>>>>>> e87b6d9cad69d11897086871c5cd5e8948e40979
     "metadata": {},
     "output_type": "execute_result"
    }
   ],
   "source": [
    "data.describe()"
   ]
  },
  {
   "cell_type": "code",
<<<<<<< HEAD
   "execution_count": 12,
=======
   "execution_count": 81,
>>>>>>> e87b6d9cad69d11897086871c5cd5e8948e40979
   "metadata": {},
   "outputs": [
    {
     "data": {
      "text/plain": [
<<<<<<< HEAD
       "197.286230248307"
      ]
     },
     "execution_count": 12,
=======
       "56622.45553047404"
      ]
     },
     "execution_count": 81,
>>>>>>> e87b6d9cad69d11897086871c5cd5e8948e40979
     "metadata": {},
     "output_type": "execute_result"
    }
   ],
   "source": [
    "data.describe().racepctblack[1]\n",
    "data.describe().NumKidsBornNeverMar[1]\n",
    "data.describe().PctKidsBornNeverMar[1]\n",
    "data.describe().RentQrange[1]"
   ]
  },
  {
   "cell_type": "code",
<<<<<<< HEAD
   "execution_count": 20,
=======
   "execution_count": 195,
>>>>>>> e87b6d9cad69d11897086871c5cd5e8948e40979
   "metadata": {},
   "outputs": [
    {
     "data": {
      "text/html": [
       "<div>\n",
       "<style scoped>\n",
       "    .dataframe tbody tr th:only-of-type {\n",
       "        vertical-align: middle;\n",
       "    }\n",
       "\n",
       "    .dataframe tbody tr th {\n",
       "        vertical-align: top;\n",
       "    }\n",
       "\n",
       "    .dataframe thead th {\n",
       "        text-align: right;\n",
       "    }\n",
       "</style>\n",
       "<table border=\"1\" class=\"dataframe\">\n",
       "  <thead>\n",
       "    <tr style=\"text-align: right;\">\n",
       "      <th></th>\n",
       "      <th>communityname</th>\n",
       "      <th>state</th>\n",
       "      <th>countyCode</th>\n",
       "      <th>communityCode</th>\n",
       "      <th>fold</th>\n",
       "      <th>population</th>\n",
       "      <th>householdsize</th>\n",
       "      <th>racepctblack</th>\n",
       "      <th>racePctWhite</th>\n",
       "      <th>racePctAsian</th>\n",
       "      <th>...</th>\n",
       "      <th>burglaries</th>\n",
       "      <th>burglPerPop</th>\n",
       "      <th>larcenies</th>\n",
       "      <th>larcPerPop</th>\n",
       "      <th>autoTheft</th>\n",
       "      <th>autoTheftPerPop</th>\n",
       "      <th>arsons</th>\n",
       "      <th>arsonsPerPop</th>\n",
       "      <th>ViolentCrimesPerPop</th>\n",
       "      <th>nonViolPerPop</th>\n",
       "    </tr>\n",
       "  </thead>\n",
       "  <tbody>\n",
<<<<<<< HEAD
       "    <tr>\n",
       "      <th>594</th>\n",
       "      <td>Vidorcity</td>\n",
       "      <td>TX</td>\n",
       "      <td>?</td>\n",
       "      <td>?</td>\n",
       "      <td>3</td>\n",
       "      <td>10935</td>\n",
       "      <td>2.78</td>\n",
       "      <td>0.0</td>\n",
       "      <td>99.17</td>\n",
       "      <td>0.16</td>\n",
       "      <td>...</td>\n",
       "      <td>75</td>\n",
       "      <td>648.28</td>\n",
       "      <td>391</td>\n",
       "      <td>3379.72</td>\n",
       "      <td>28</td>\n",
       "      <td>242.03</td>\n",
       "      <td>3</td>\n",
       "      <td>25.93</td>\n",
       "      <td>267.96</td>\n",
       "      <td>4295.96</td>\n",
       "    </tr>\n",
       "    <tr>\n",
       "      <th>1820</th>\n",
       "      <td>Martinsvillecity</td>\n",
       "      <td>IN</td>\n",
       "      <td>?</td>\n",
       "      <td>?</td>\n",
       "      <td>9</td>\n",
       "      <td>11677</td>\n",
       "      <td>2.65</td>\n",
       "      <td>0.0</td>\n",
       "      <td>99.43</td>\n",
       "      <td>0.15</td>\n",
       "      <td>...</td>\n",
       "      <td>59</td>\n",
       "      <td>473.9</td>\n",
       "      <td>408</td>\n",
       "      <td>3277.11</td>\n",
       "      <td>20</td>\n",
       "      <td>160.64</td>\n",
       "      <td>3</td>\n",
       "      <td>24.1</td>\n",
       "      <td>216.87</td>\n",
       "      <td>3935.74</td>\n",
       "    </tr>\n",
       "  </tbody>\n",
       "</table>\n",
       "<p>2 rows × 147 columns</p>\n",
       "</div>"
      ],
      "text/plain": [
       "         communityname state countyCode communityCode  fold  population  \\\n",
       "594          Vidorcity    TX          ?             ?     3       10935   \n",
       "1820  Martinsvillecity    IN          ?             ?     9       11677   \n",
       "\n",
       "      householdsize  racepctblack  racePctWhite  racePctAsian  ...  \\\n",
       "594            2.78           0.0         99.17          0.16  ...   \n",
       "1820           2.65           0.0         99.43          0.15  ...   \n",
       "\n",
       "      burglaries  burglPerPop  larcenies  larcPerPop  autoTheft  \\\n",
       "594           75       648.28        391     3379.72         28   \n",
       "1820          59        473.9        408     3277.11         20   \n",
       "\n",
       "      autoTheftPerPop  arsons  arsonsPerPop  ViolentCrimesPerPop  \\\n",
       "594            242.03       3         25.93               267.96   \n",
       "1820           160.64       3          24.1               216.87   \n",
       "\n",
       "      nonViolPerPop  \n",
       "594         4295.96  \n",
       "1820        3935.74  \n",
       "\n",
       "[2 rows x 147 columns]"
      ]
     },
     "execution_count": 20,
=======
       "  </tbody>\n",
       "</table>\n",
       "<p>0 rows × 147 columns</p>\n",
       "</div>"
      ],
      "text/plain": [
       "Empty DataFrame\n",
       "Columns: [communityname, state, countyCode, communityCode, fold, population, householdsize, racepctblack, racePctWhite, racePctAsian, racePctHisp, agePct12t21, agePct12t29, agePct16t24, agePct65up, numbUrban, pctUrban, medIncome, pctWWage, pctWFarmSelf, pctWInvInc, pctWSocSec, pctWPubAsst, pctWRetire, medFamInc, perCapInc, whitePerCap, blackPerCap, indianPerCap, AsianPerCap, OtherPerCap, HispPerCap, NumUnderPov, PctPopUnderPov, PctLess9thGrade, PctNotHSGrad, PctBSorMore, PctUnemployed, PctEmploy, PctEmplManu, PctEmplProfServ, PctOccupManu, PctOccupMgmtProf, MalePctDivorce, MalePctNevMarr, FemalePctDiv, TotalPctDiv, PersPerFam, PctFam2Par, PctKids2Par, PctYoungKids2Par, PctTeen2Par, PctWorkMomYoungKids, PctWorkMom, NumKidsBornNeverMar, PctKidsBornNeverMar, NumImmig, PctImmigRecent, PctImmigRec5, PctImmigRec8, PctImmigRec10, PctRecentImmig, PctRecImmig5, PctRecImmig8, PctRecImmig10, PctSpeakEnglOnly, PctNotSpeakEnglWell, PctLargHouseFam, PctLargHouseOccup, PersPerOccupHous, PersPerOwnOccHous, PersPerRentOccHous, PctPersOwnOccup, PctPersDenseHous, PctHousLess3BR, MedNumBR, HousVacant, PctHousOccup, PctHousOwnOcc, PctVacantBoarded, PctVacMore6Mos, MedYrHousBuilt, PctHousNoPhone, PctWOFullPlumb, OwnOccLowQuart, OwnOccMedVal, OwnOccHiQuart, OwnOccQrange, RentLowQ, RentMedian, RentHighQ, RentQrange, MedRent, MedRentPctHousInc, MedOwnCostPctInc, MedOwnCostPctIncNoMtg, NumInShelters, NumStreet, PctForeignBorn, PctBornSameState, ...]\n",
       "Index: []\n",
       "\n",
       "[0 rows x 147 columns]"
      ]
     },
     "execution_count": 195,
>>>>>>> e87b6d9cad69d11897086871c5cd5e8948e40979
     "metadata": {},
     "output_type": "execute_result"
    }
   ],
   "source": [
    "# rows with values to be replaced\n",
<<<<<<< HEAD
    "data[data['racepctblack']== 0]"
=======
    "data[data['NumKidsBornNeverMar']== 0]"
>>>>>>> e87b6d9cad69d11897086871c5cd5e8948e40979
   ]
  },
  {
   "cell_type": "code",
<<<<<<< HEAD
   "execution_count": 14,
=======
   "execution_count": 199,
>>>>>>> e87b6d9cad69d11897086871c5cd5e8948e40979
   "metadata": {},
   "outputs": [
    {
     "data": {
      "text/plain": [
<<<<<<< HEAD
       "['racepctblack',\n",
       " 'NumKidsBornNeverMar',\n",
       " 'PctKidsBornNeverMar',\n",
       " 'OwnOccQrange',\n",
       " 'RentQrange']"
      ]
     },
     "execution_count": 14,
=======
       "[]"
      ]
     },
     "execution_count": 199,
>>>>>>> e87b6d9cad69d11897086871c5cd5e8948e40979
     "metadata": {},
     "output_type": "execute_result"
    }
   ],
   "source": [
    "imp_columns"
   ]
  },
  {
   "cell_type": "code",
<<<<<<< HEAD
   "execution_count": 15,
=======
   "execution_count": 187,
>>>>>>> e87b6d9cad69d11897086871c5cd5e8948e40979
   "metadata": {},
   "outputs": [
    {
     "data": {
      "text/plain": [
<<<<<<< HEAD
       "0.0"
      ]
     },
     "execution_count": 15,
=======
       "9.33510158013544"
      ]
     },
     "execution_count": 187,
>>>>>>> e87b6d9cad69d11897086871c5cd5e8948e40979
     "metadata": {},
     "output_type": "execute_result"
    }
   ],
   "source": [
    "data['racepctblack'][594]"
   ]
  },
  {
   "cell_type": "code",
<<<<<<< HEAD
   "execution_count": 16,
=======
   "execution_count": 188,
>>>>>>> e87b6d9cad69d11897086871c5cd5e8948e40979
   "metadata": {},
   "outputs": [],
   "source": [
    "# not a nice way to do it but it works!\n",
    "#data['racepctblack'][594] = data.describe().racepctblack[1]\n",
    "#data['racepctblack'][1820] = data.describe().racepctblack[1]\n",
    "\n",
    "#data['NumKidsBornNeverMar'][625] = data.describe().NumKidsBornNeverMar[1]\n",
    "#data['NumKidsBornNeverMar'][862] = data.describe().NumKidsBornNeverMar[1]\n",
    "#data['NumKidsBornNeverMar'][1479] = data.describe().NumKidsBornNeverMar[1]\n",
    "#data['NumKidsBornNeverMar'][1735] = data.describe().NumKidsBornNeverMar[1]\n",
    "#data['NumKidsBornNeverMar'][1965] = data.describe().NumKidsBornNeverMar[1]\n",
    "\n",
    "#data['PctKidsBornNeverMar'][625] = data.describe().PctKidsBornNeverMar[1]\n",
    "#data['PctKidsBornNeverMar'][862] = data.describe().PctKidsBornNeverMar[1]\n",
    "#data['PctKidsBornNeverMar'][1479] = data.describe().PctKidsBornNeverMar[1]\n",
    "#data['PctKidsBornNeverMar'][1735] = data.describe().PctKidsBornNeverMar[1]\n",
    "#data['PctKidsBornNeverMar'][1965] = data.describe().PctKidsBornNeverMar[1]\n",
    "\n",
    "#data['RentQrange'][597] = data.describe().RentQrange[1]\n",
    "#data['RentQrange'][2105] = data.describe().RentQrange[1]"
   ]
  },
  {
   "cell_type": "code",
<<<<<<< HEAD
   "execution_count": 17,
=======
   "execution_count": 194,
>>>>>>> e87b6d9cad69d11897086871c5cd5e8948e40979
   "metadata": {},
   "outputs": [
    {
     "name": "stderr",
     "output_type": "stream",
     "text": [
      "/Users/macbook/opt/anaconda3/lib/python3.7/site-packages/ipykernel_launcher.py:6: SettingWithCopyWarning: \n",
      "A value is trying to be set on a copy of a slice from a DataFrame\n",
      "\n",
      "See the caveats in the documentation: https://pandas.pydata.org/pandas-docs/stable/user_guide/indexing.html#returning-a-view-versus-a-copy\n",
      "  \n"
     ]
    }
   ],
   "source": [
    "# nicer way to do the above\n",
    "for col in imp_columns:\n",
    "    \n",
    "    for row in data[data[col]== 0].index:\n",
    "        \n",
    "        data[col][row] = data.describe().racepctblack[1]"
   ]
  },
  {
   "cell_type": "code",
   "execution_count": 196,
   "metadata": {},
   "outputs": [],
   "source": [
    "# 8. dokonać normalizacji zbioru danych przynajmniej 4 wybranymi metodami\n",
    "# przedstawić wybrane metody\n",
    "# uzasadnić wybór metody\n",
    "# do dalszej analizy wybrać jeden wariant"
   ]
  },
  {
   "cell_type": "code",
   "execution_count": null,
   "metadata": {},
   "outputs": [],
   "source": []
  }
 ],
 "metadata": {
  "kernelspec": {
   "display_name": "Python 3.7.4 64-bit ('base': conda)",
   "language": "python",
   "name": "python37464bitbaseconda376802e3ee77436dad8a0087160f9210"
  },
  "language_info": {
   "codemirror_mode": {
    "name": "ipython",
    "version": 3
   },
   "file_extension": ".py",
   "mimetype": "text/x-python",
   "name": "python",
   "nbconvert_exporter": "python",
   "pygments_lexer": "ipython3",
   "version": "3.7.4"
  }
 },
 "nbformat": 4,
 "nbformat_minor": 2
}

{
 "cells": [
  {
   "cell_type": "code",
   "execution_count": 1,
   "id": "85d4e69d-a8b7-49d6-bf33-3816a31b8944",
   "metadata": {},
   "outputs": [
    {
     "name": "stdout",
     "output_type": "stream",
     "text": [
      "Python 3.9.7\n"
     ]
    }
   ],
   "source": [
    "!python --version"
   ]
  },
  {
   "cell_type": "code",
   "execution_count": 2,
   "id": "2bdc67c4-1687-4b97-8e3b-7f7338142571",
   "metadata": {
    "tags": []
   },
   "outputs": [],
   "source": [
    "import pandas as pd\n",
    "import numpy as np"
   ]
  },
  {
   "cell_type": "code",
   "execution_count": 3,
   "id": "0db1b20c-503b-4474-b022-8fd38c17bec6",
   "metadata": {},
   "outputs": [],
   "source": [
    "data = pd.read_csv(\"bank_data_prediction_task.csv\", low_memory=False)"
   ]
  },
  {
   "cell_type": "code",
   "execution_count": 4,
   "id": "2168f0f9-61bd-437e-875d-f431b2569840",
   "metadata": {},
   "outputs": [
    {
     "data": {
      "text/html": [
       "<div>\n",
       "<style scoped>\n",
       "    .dataframe tbody tr th:only-of-type {\n",
       "        vertical-align: middle;\n",
       "    }\n",
       "\n",
       "    .dataframe tbody tr th {\n",
       "        vertical-align: top;\n",
       "    }\n",
       "\n",
       "    .dataframe thead th {\n",
       "        text-align: right;\n",
       "    }\n",
       "</style>\n",
       "<table border=\"1\" class=\"dataframe\">\n",
       "  <thead>\n",
       "    <tr style=\"text-align: right;\">\n",
       "      <th></th>\n",
       "      <th>Unnamed: 0</th>\n",
       "      <th>age</th>\n",
       "      <th>job</th>\n",
       "      <th>marital</th>\n",
       "      <th>education</th>\n",
       "      <th>default</th>\n",
       "      <th>housing</th>\n",
       "      <th>loan</th>\n",
       "      <th>contact</th>\n",
       "      <th>month</th>\n",
       "      <th>...</th>\n",
       "      <th>pdays</th>\n",
       "      <th>previous</th>\n",
       "      <th>poutcome</th>\n",
       "      <th>emp.var.rate</th>\n",
       "      <th>cons.price.idx</th>\n",
       "      <th>cons.conf.idx</th>\n",
       "      <th>euribor3m</th>\n",
       "      <th>nr.employed</th>\n",
       "      <th>y</th>\n",
       "      <th>test_control_flag</th>\n",
       "    </tr>\n",
       "  </thead>\n",
       "  <tbody>\n",
       "    <tr>\n",
       "      <th>0</th>\n",
       "      <td>1</td>\n",
       "      <td>37</td>\n",
       "      <td>services</td>\n",
       "      <td>married</td>\n",
       "      <td>high.school</td>\n",
       "      <td>no</td>\n",
       "      <td>yes</td>\n",
       "      <td>no</td>\n",
       "      <td>telephone</td>\n",
       "      <td>may</td>\n",
       "      <td>...</td>\n",
       "      <td>999</td>\n",
       "      <td>0</td>\n",
       "      <td>nonexistent</td>\n",
       "      <td>1.1</td>\n",
       "      <td>93.994</td>\n",
       "      <td>-36.4</td>\n",
       "      <td>4.857</td>\n",
       "      <td>5191.0</td>\n",
       "      <td>no</td>\n",
       "      <td>campaign group</td>\n",
       "    </tr>\n",
       "    <tr>\n",
       "      <th>1</th>\n",
       "      <td>2</td>\n",
       "      <td>56</td>\n",
       "      <td>services</td>\n",
       "      <td>married</td>\n",
       "      <td>high.school</td>\n",
       "      <td>no</td>\n",
       "      <td>no</td>\n",
       "      <td>yes</td>\n",
       "      <td>telephone</td>\n",
       "      <td>may</td>\n",
       "      <td>...</td>\n",
       "      <td>999</td>\n",
       "      <td>0</td>\n",
       "      <td>nonexistent</td>\n",
       "      <td>1.1</td>\n",
       "      <td>93.994</td>\n",
       "      <td>-36.4</td>\n",
       "      <td>4.857</td>\n",
       "      <td>5191.0</td>\n",
       "      <td>no</td>\n",
       "      <td>campaign group</td>\n",
       "    </tr>\n",
       "    <tr>\n",
       "      <th>2</th>\n",
       "      <td>3</td>\n",
       "      <td>41</td>\n",
       "      <td>blue-collar</td>\n",
       "      <td>married</td>\n",
       "      <td>unknown</td>\n",
       "      <td>unknown</td>\n",
       "      <td>no</td>\n",
       "      <td>no</td>\n",
       "      <td>telephone</td>\n",
       "      <td>may</td>\n",
       "      <td>...</td>\n",
       "      <td>999</td>\n",
       "      <td>0</td>\n",
       "      <td>nonexistent</td>\n",
       "      <td>1.1</td>\n",
       "      <td>93.994</td>\n",
       "      <td>-36.4</td>\n",
       "      <td>4.857</td>\n",
       "      <td>5191.0</td>\n",
       "      <td>yes</td>\n",
       "      <td>campaign group</td>\n",
       "    </tr>\n",
       "    <tr>\n",
       "      <th>3</th>\n",
       "      <td>4</td>\n",
       "      <td>25</td>\n",
       "      <td>services</td>\n",
       "      <td>single</td>\n",
       "      <td>high.school</td>\n",
       "      <td>no</td>\n",
       "      <td>yes</td>\n",
       "      <td>no</td>\n",
       "      <td>telephone</td>\n",
       "      <td>may</td>\n",
       "      <td>...</td>\n",
       "      <td>999</td>\n",
       "      <td>0</td>\n",
       "      <td>nonexistent</td>\n",
       "      <td>1.1</td>\n",
       "      <td>93.994</td>\n",
       "      <td>-36.4</td>\n",
       "      <td>4.857</td>\n",
       "      <td>5191.0</td>\n",
       "      <td>no</td>\n",
       "      <td>campaign group</td>\n",
       "    </tr>\n",
       "    <tr>\n",
       "      <th>4</th>\n",
       "      <td>5</td>\n",
       "      <td>25</td>\n",
       "      <td>services</td>\n",
       "      <td>single</td>\n",
       "      <td>high.school</td>\n",
       "      <td>no</td>\n",
       "      <td>yes</td>\n",
       "      <td>no</td>\n",
       "      <td>telephone</td>\n",
       "      <td>may</td>\n",
       "      <td>...</td>\n",
       "      <td>999</td>\n",
       "      <td>0</td>\n",
       "      <td>nonexistent</td>\n",
       "      <td>1.1</td>\n",
       "      <td>93.994</td>\n",
       "      <td>-36.4</td>\n",
       "      <td>4.857</td>\n",
       "      <td>5191.0</td>\n",
       "      <td>no</td>\n",
       "      <td>campaign group</td>\n",
       "    </tr>\n",
       "    <tr>\n",
       "      <th>5</th>\n",
       "      <td>6</td>\n",
       "      <td>35</td>\n",
       "      <td>blue-collar</td>\n",
       "      <td>married</td>\n",
       "      <td>basic.6y</td>\n",
       "      <td>no</td>\n",
       "      <td>yes</td>\n",
       "      <td>no</td>\n",
       "      <td>telephone</td>\n",
       "      <td>may</td>\n",
       "      <td>...</td>\n",
       "      <td>999</td>\n",
       "      <td>0</td>\n",
       "      <td>nonexistent</td>\n",
       "      <td>1.1</td>\n",
       "      <td>93.994</td>\n",
       "      <td>-36.4</td>\n",
       "      <td>4.857</td>\n",
       "      <td>5191.0</td>\n",
       "      <td>no</td>\n",
       "      <td>campaign group</td>\n",
       "    </tr>\n",
       "    <tr>\n",
       "      <th>6</th>\n",
       "      <td>7</td>\n",
       "      <td>54</td>\n",
       "      <td>retired</td>\n",
       "      <td>married</td>\n",
       "      <td>basic.9y</td>\n",
       "      <td>unknown</td>\n",
       "      <td>yes</td>\n",
       "      <td>yes</td>\n",
       "      <td>telephone</td>\n",
       "      <td>may</td>\n",
       "      <td>...</td>\n",
       "      <td>999</td>\n",
       "      <td>0</td>\n",
       "      <td>nonexistent</td>\n",
       "      <td>1.1</td>\n",
       "      <td>93.994</td>\n",
       "      <td>-36.4</td>\n",
       "      <td>4.857</td>\n",
       "      <td>5191.0</td>\n",
       "      <td>no</td>\n",
       "      <td>campaign group</td>\n",
       "    </tr>\n",
       "    <tr>\n",
       "      <th>7</th>\n",
       "      <td>8</td>\n",
       "      <td>46</td>\n",
       "      <td>blue-collar</td>\n",
       "      <td>married</td>\n",
       "      <td>basic.6y</td>\n",
       "      <td>unknown</td>\n",
       "      <td>yes</td>\n",
       "      <td>yes</td>\n",
       "      <td>telephone</td>\n",
       "      <td>may</td>\n",
       "      <td>...</td>\n",
       "      <td>999</td>\n",
       "      <td>0</td>\n",
       "      <td>nonexistent</td>\n",
       "      <td>1.1</td>\n",
       "      <td>93.994</td>\n",
       "      <td>-36.4</td>\n",
       "      <td>4.857</td>\n",
       "      <td>5191.0</td>\n",
       "      <td>no</td>\n",
       "      <td>campaign group</td>\n",
       "    </tr>\n",
       "    <tr>\n",
       "      <th>8</th>\n",
       "      <td>9</td>\n",
       "      <td>41</td>\n",
       "      <td>technician</td>\n",
       "      <td>single</td>\n",
       "      <td>high.school</td>\n",
       "      <td>no</td>\n",
       "      <td>yes</td>\n",
       "      <td>no</td>\n",
       "      <td>telephone</td>\n",
       "      <td>may</td>\n",
       "      <td>...</td>\n",
       "      <td>999</td>\n",
       "      <td>0</td>\n",
       "      <td>nonexistent</td>\n",
       "      <td>1.1</td>\n",
       "      <td>93.994</td>\n",
       "      <td>-36.4</td>\n",
       "      <td>4.857</td>\n",
       "      <td>5191.0</td>\n",
       "      <td>no</td>\n",
       "      <td>campaign group</td>\n",
       "    </tr>\n",
       "    <tr>\n",
       "      <th>9</th>\n",
       "      <td>10</td>\n",
       "      <td>37</td>\n",
       "      <td>admin.</td>\n",
       "      <td>married</td>\n",
       "      <td>high.school</td>\n",
       "      <td>no</td>\n",
       "      <td>yes</td>\n",
       "      <td>no</td>\n",
       "      <td>telephone</td>\n",
       "      <td>may</td>\n",
       "      <td>...</td>\n",
       "      <td>999</td>\n",
       "      <td>0</td>\n",
       "      <td>nonexistent</td>\n",
       "      <td>1.1</td>\n",
       "      <td>93.994</td>\n",
       "      <td>-36.4</td>\n",
       "      <td>4.857</td>\n",
       "      <td>5191.0</td>\n",
       "      <td>no</td>\n",
       "      <td>campaign group</td>\n",
       "    </tr>\n",
       "  </tbody>\n",
       "</table>\n",
       "<p>10 rows × 23 columns</p>\n",
       "</div>"
      ],
      "text/plain": [
       "   Unnamed: 0  age          job  marital    education  default housing loan  \\\n",
       "0           1   37     services  married  high.school       no     yes   no   \n",
       "1           2   56     services  married  high.school       no      no  yes   \n",
       "2           3   41  blue-collar  married      unknown  unknown      no   no   \n",
       "3           4   25     services   single  high.school       no     yes   no   \n",
       "4           5   25     services   single  high.school       no     yes   no   \n",
       "5           6   35  blue-collar  married     basic.6y       no     yes   no   \n",
       "6           7   54      retired  married     basic.9y  unknown     yes  yes   \n",
       "7           8   46  blue-collar  married     basic.6y  unknown     yes  yes   \n",
       "8           9   41   technician   single  high.school       no     yes   no   \n",
       "9          10   37       admin.  married  high.school       no     yes   no   \n",
       "\n",
       "     contact month  ... pdays  previous     poutcome  emp.var.rate  \\\n",
       "0  telephone   may  ...   999         0  nonexistent           1.1   \n",
       "1  telephone   may  ...   999         0  nonexistent           1.1   \n",
       "2  telephone   may  ...   999         0  nonexistent           1.1   \n",
       "3  telephone   may  ...   999         0  nonexistent           1.1   \n",
       "4  telephone   may  ...   999         0  nonexistent           1.1   \n",
       "5  telephone   may  ...   999         0  nonexistent           1.1   \n",
       "6  telephone   may  ...   999         0  nonexistent           1.1   \n",
       "7  telephone   may  ...   999         0  nonexistent           1.1   \n",
       "8  telephone   may  ...   999         0  nonexistent           1.1   \n",
       "9  telephone   may  ...   999         0  nonexistent           1.1   \n",
       "\n",
       "   cons.price.idx cons.conf.idx  euribor3m  nr.employed    y  \\\n",
       "0          93.994         -36.4      4.857       5191.0   no   \n",
       "1          93.994         -36.4      4.857       5191.0   no   \n",
       "2          93.994         -36.4      4.857       5191.0  yes   \n",
       "3          93.994         -36.4      4.857       5191.0   no   \n",
       "4          93.994         -36.4      4.857       5191.0   no   \n",
       "5          93.994         -36.4      4.857       5191.0   no   \n",
       "6          93.994         -36.4      4.857       5191.0   no   \n",
       "7          93.994         -36.4      4.857       5191.0   no   \n",
       "8          93.994         -36.4      4.857       5191.0   no   \n",
       "9          93.994         -36.4      4.857       5191.0   no   \n",
       "\n",
       "   test_control_flag  \n",
       "0     campaign group  \n",
       "1     campaign group  \n",
       "2     campaign group  \n",
       "3     campaign group  \n",
       "4     campaign group  \n",
       "5     campaign group  \n",
       "6     campaign group  \n",
       "7     campaign group  \n",
       "8     campaign group  \n",
       "9     campaign group  \n",
       "\n",
       "[10 rows x 23 columns]"
      ]
     },
     "execution_count": 4,
     "metadata": {},
     "output_type": "execute_result"
    }
   ],
   "source": [
    "data.head(10)"
   ]
  },
  {
   "cell_type": "markdown",
   "id": "4be7af11-9d8a-43b1-8122-3fdd2fc56096",
   "metadata": {},
   "source": [
    "# 1. Basic data engineering"
   ]
  },
  {
   "cell_type": "code",
   "execution_count": 5,
   "id": "b19fcddd-9556-4e23-a103-713dbf6a68ff",
   "metadata": {},
   "outputs": [],
   "source": [
    "import matplotlib.pyplot as plt\n",
    "import seaborn as sns"
   ]
  },
  {
   "cell_type": "markdown",
   "id": "55d2ac75-3983-4afd-84b7-fe9bc05152a2",
   "metadata": {},
   "source": [
    "### Dropping the first column"
   ]
  },
  {
   "cell_type": "code",
   "execution_count": 6,
   "id": "8074e225-35fc-4edd-8094-bd8da53ce50f",
   "metadata": {},
   "outputs": [],
   "source": [
    "data = data.iloc[:, 1:]"
   ]
  },
  {
   "cell_type": "code",
   "execution_count": 7,
   "id": "035ead24-8c46-4d51-aad2-74be14ba9744",
   "metadata": {},
   "outputs": [],
   "source": [
    "data['y'] = data['y'].map({'yes': 1, 'no': 0})"
   ]
  },
  {
   "cell_type": "code",
   "execution_count": 8,
   "id": "92e6336f-4a6b-4d32-965d-d3a14fb6da7f",
   "metadata": {},
   "outputs": [],
   "source": [
    "cat_cols = ['job', 'marital', 'education', 'default', 'housing', 'loan', 'contact', 'month', 'day_of_week', 'poutcome', 'y', 'test_control_flag']\n",
    "data[cat_cols] = data[cat_cols].astype('category')"
   ]
  },
  {
   "cell_type": "code",
   "execution_count": 9,
   "id": "7d752154-bf20-4deb-82e9-7e9a82577243",
   "metadata": {},
   "outputs": [
    {
     "name": "stdout",
     "output_type": "stream",
     "text": [
      "<class 'pandas.core.frame.DataFrame'>\n",
      "RangeIndex: 41188 entries, 0 to 41187\n",
      "Data columns (total 22 columns):\n",
      " #   Column             Non-Null Count  Dtype   \n",
      "---  ------             --------------  -----   \n",
      " 0   age                41188 non-null  int64   \n",
      " 1   job                41188 non-null  category\n",
      " 2   marital            41188 non-null  category\n",
      " 3   education          41188 non-null  category\n",
      " 4   default            41188 non-null  category\n",
      " 5   housing            41188 non-null  category\n",
      " 6   loan               41188 non-null  category\n",
      " 7   contact            16476 non-null  category\n",
      " 8   month              16476 non-null  category\n",
      " 9   day_of_week        16476 non-null  category\n",
      " 10  duration           16476 non-null  float64 \n",
      " 11  campaign           16476 non-null  float64 \n",
      " 12  pdays              41188 non-null  int64   \n",
      " 13  previous           41188 non-null  int64   \n",
      " 14  poutcome           41188 non-null  category\n",
      " 15  emp.var.rate       41188 non-null  float64 \n",
      " 16  cons.price.idx     40938 non-null  float64 \n",
      " 17  cons.conf.idx      41188 non-null  float64 \n",
      " 18  euribor3m          41188 non-null  float64 \n",
      " 19  nr.employed        41188 non-null  float64 \n",
      " 20  y                  41188 non-null  category\n",
      " 21  test_control_flag  41188 non-null  category\n",
      "dtypes: category(12), float64(7), int64(3)\n",
      "memory usage: 3.6 MB\n"
     ]
    }
   ],
   "source": [
    "data.info()"
   ]
  },
  {
   "cell_type": "markdown",
   "id": "a6fd592d-64fb-4af4-b9d8-f79fbcf394be",
   "metadata": {},
   "source": [
    "### Check for missing values"
   ]
  },
  {
   "cell_type": "code",
   "execution_count": 10,
   "id": "dce26eff-0c37-40eb-b89a-4f65505ab892",
   "metadata": {},
   "outputs": [
    {
     "data": {
      "text/plain": [
       "age                      0\n",
       "job                      0\n",
       "marital                  0\n",
       "education                0\n",
       "default                  0\n",
       "housing                  0\n",
       "loan                     0\n",
       "contact              24712\n",
       "month                24712\n",
       "day_of_week          24712\n",
       "duration             24712\n",
       "campaign             24712\n",
       "pdays                    0\n",
       "previous                 0\n",
       "poutcome                 0\n",
       "emp.var.rate             0\n",
       "cons.price.idx         250\n",
       "cons.conf.idx            0\n",
       "euribor3m                0\n",
       "nr.employed              0\n",
       "y                        0\n",
       "test_control_flag        0\n",
       "dtype: int64"
      ]
     },
     "execution_count": 10,
     "metadata": {},
     "output_type": "execute_result"
    }
   ],
   "source": [
    "data.isna().sum()"
   ]
  },
  {
   "cell_type": "markdown",
   "id": "dc5a17c8-b8ec-42c7-acc9-cf535586b525",
   "metadata": {},
   "source": [
    "#### Missing data in 250 rows, less than 1% of dataset so can be removed"
   ]
  },
  {
   "cell_type": "code",
   "execution_count": 11,
   "id": "1e1e8f21-6217-4206-bfa4-52bce844f757",
   "metadata": {},
   "outputs": [],
   "source": [
    "data = data.dropna(subset = ['cons.price.idx'])"
   ]
  },
  {
   "cell_type": "code",
   "execution_count": 12,
   "id": "761611e6-ff19-47ae-aa27-983cfdd48fe7",
   "metadata": {},
   "outputs": [
    {
     "data": {
      "text/plain": [
       "(40938, 22)"
      ]
     },
     "execution_count": 12,
     "metadata": {},
     "output_type": "execute_result"
    }
   ],
   "source": [
    "data.shape"
   ]
  },
  {
   "cell_type": "code",
   "execution_count": 13,
   "id": "10d5a30a-1646-42b7-b127-78988331bfc2",
   "metadata": {},
   "outputs": [],
   "source": [
    "data_y = data[data['y'] == 1]"
   ]
  },
  {
   "cell_type": "code",
   "execution_count": 14,
   "id": "072747f2-1435-454d-9d71-15a783170261",
   "metadata": {},
   "outputs": [
    {
     "data": {
      "text/plain": [
       "5126"
      ]
     },
     "execution_count": 14,
     "metadata": {},
     "output_type": "execute_result"
    }
   ],
   "source": [
    "data_y.shape[0]"
   ]
  },
  {
   "cell_type": "code",
   "execution_count": 15,
   "id": "c66f36fd-02a9-4f84-928a-4f9171db7760",
   "metadata": {},
   "outputs": [
    {
     "data": {
      "text/plain": [
       "age                     0\n",
       "job                     0\n",
       "marital                 0\n",
       "education               0\n",
       "default                 0\n",
       "housing                 0\n",
       "loan                    0\n",
       "contact              2642\n",
       "month                2642\n",
       "day_of_week          2642\n",
       "duration             2642\n",
       "campaign             2642\n",
       "pdays                   0\n",
       "previous                0\n",
       "poutcome                0\n",
       "emp.var.rate            0\n",
       "cons.price.idx          0\n",
       "cons.conf.idx           0\n",
       "euribor3m               0\n",
       "nr.employed             0\n",
       "y                       0\n",
       "test_control_flag       0\n",
       "dtype: int64"
      ]
     },
     "execution_count": 15,
     "metadata": {},
     "output_type": "execute_result"
    }
   ],
   "source": [
    "data_y.isna().sum()"
   ]
  },
  {
   "cell_type": "markdown",
   "id": "eb463261-c3c8-4de3-8e24-4c4f3b41a3a1",
   "metadata": {},
   "source": [
    "### Previous campaign effectiveness"
   ]
  },
  {
   "cell_type": "code",
   "execution_count": 16,
   "id": "6a1bfeaf-00bc-404d-8c6c-3f3169b825d3",
   "metadata": {},
   "outputs": [
    {
     "name": "stdout",
     "output_type": "stream",
     "text": [
      "Effectiveness of previous campaingn: 51.54%\n"
     ]
    }
   ],
   "source": [
    "percentage = 2642/data_y.shape[0]*100\n",
    "print(f\"Effectiveness of previous campaingn: {percentage:.2f}%\")"
   ]
  },
  {
   "cell_type": "code",
   "execution_count": 17,
   "id": "e6efb6d9-4ec1-4d46-a6e9-eb0abebac9de",
   "metadata": {},
   "outputs": [
    {
     "data": {
      "text/plain": [
       "(40938, 22)"
      ]
     },
     "execution_count": 17,
     "metadata": {},
     "output_type": "execute_result"
    }
   ],
   "source": [
    "data.shape"
   ]
  },
  {
   "cell_type": "code",
   "execution_count": 18,
   "id": "68b216ff-2014-4a17-8722-1e2a3e8772d4",
   "metadata": {},
   "outputs": [],
   "source": [
    "# Creating categorical and continuous variable list\n",
    "cat_var = [\"blue\",\"dual_sim\",\"four_g\",\"three_g\",\"touch_screen\",\"wifi\"]\n",
    "con_var = ['px_height', 'sc_h', 'sc_w', 'clock_speed', 'battery_power', 'int_memory', 'talk_time', 'pc',\n",
    "           'n_cores', 'px_width', 'fc', 'mobile_wt', 'm_dep', 'ram']"
   ]
  },
  {
   "cell_type": "markdown",
   "id": "93956bf1-c70c-4797-9dd9-2750d93bd151",
   "metadata": {
    "tags": []
   },
   "source": [
    "### Correlation heatmap"
   ]
  },
  {
   "cell_type": "code",
   "execution_count": 19,
   "id": "14ed3a3f-5470-4c80-b366-3e5c68bf54c7",
   "metadata": {},
   "outputs": [
    {
     "data": {
      "image/png": "[encoded data removed]",
      "text/plain": [
       "<Figure size 2160x2160 with 2 Axes>"
      ]
     },
     "metadata": {
      "needs_background": "light"
     },
     "output_type": "display_data"
    }
   ],
   "source": [
    "correlation_matrix = data.corr()\n",
    "\n",
    "plt.figure(figsize=(30, 30))\n",
    "sns.heatmap(correlation_matrix, annot=True, cmap='coolwarm')\n",
    "plt.title(\"Correlation Heatmap\")\n",
    "plt.show()"
   ]
  },
  {
   "cell_type": "code",
   "execution_count": 20,
   "id": "d3c63981-a77f-47da-9492-4256540b43c3",
   "metadata": {},
   "outputs": [
    {
     "name": "stdout",
     "output_type": "stream",
     "text": [
      "Dropped Columns: {'euribor3m', 'nr.employed'}\n"
     ]
    }
   ],
   "source": [
    "# Create a set to keep track of columns to drop\n",
    "columns_to_drop = set()\n",
    "\n",
    "# Iterate through the upper triangular part of the correlation matrix\n",
    "for i in range(len(correlation_matrix.columns)):\n",
    "    for j in range(i + 1, len(correlation_matrix.columns)):\n",
    "        if abs(correlation_matrix.iloc[i, j]) > 0.9:\n",
    "            columns_to_drop.add(correlation_matrix.columns[j])\n",
    "\n",
    "# Drop the selected columns\n",
    "data = data.drop(columns=columns_to_drop)\n",
    "\n",
    "# Print the columns that were dropped\n",
    "print(\"Dropped Columns:\", columns_to_drop)"
   ]
  },
  {
   "cell_type": "markdown",
   "id": "b04e4f39-1828-4968-bde7-e518ac0eabdd",
   "metadata": {},
   "source": [
    "### pdays column values"
   ]
  },
  {
   "cell_type": "code",
   "execution_count": 21,
   "id": "f458aef8-aee8-4116-8fea-ce0d87296e3f",
   "metadata": {},
   "outputs": [
    {
     "data": {
      "text/plain": [
       "array([999,   4,   5,   1,   0,   3,   6,   8,   9,   2,  11,  10,  12,\n",
       "         7,  13,  14,  15,  16,  21,  18,  26,  19,  20,  17,  22,  25,\n",
       "        27])"
      ]
     },
     "execution_count": 21,
     "metadata": {},
     "output_type": "execute_result"
    }
   ],
   "source": [
    "data['pdays'].unique()"
   ]
  },
  {
   "cell_type": "code",
   "execution_count": 22,
   "id": "f1358f74-c8d6-494b-979f-74955e24a964",
   "metadata": {},
   "outputs": [
    {
     "data": {
      "text/html": [
       "<div>\n",
       "<style scoped>\n",
       "    .dataframe tbody tr th:only-of-type {\n",
       "        vertical-align: middle;\n",
       "    }\n",
       "\n",
       "    .dataframe tbody tr th {\n",
       "        vertical-align: top;\n",
       "    }\n",
       "\n",
       "    .dataframe thead th {\n",
       "        text-align: right;\n",
       "    }\n",
       "</style>\n",
       "<table border=\"1\" class=\"dataframe\">\n",
       "  <thead>\n",
       "    <tr style=\"text-align: right;\">\n",
       "      <th></th>\n",
       "      <th>pdays</th>\n",
       "      <th>was_contacted</th>\n",
       "    </tr>\n",
       "  </thead>\n",
       "  <tbody>\n",
       "    <tr>\n",
       "      <th>41183</th>\n",
       "      <td>9</td>\n",
       "      <td>1</td>\n",
       "    </tr>\n",
       "    <tr>\n",
       "      <th>41184</th>\n",
       "      <td>999</td>\n",
       "      <td>0</td>\n",
       "    </tr>\n",
       "    <tr>\n",
       "      <th>41185</th>\n",
       "      <td>999</td>\n",
       "      <td>0</td>\n",
       "    </tr>\n",
       "    <tr>\n",
       "      <th>41186</th>\n",
       "      <td>999</td>\n",
       "      <td>0</td>\n",
       "    </tr>\n",
       "    <tr>\n",
       "      <th>41187</th>\n",
       "      <td>999</td>\n",
       "      <td>0</td>\n",
       "    </tr>\n",
       "  </tbody>\n",
       "</table>\n",
       "</div>"
      ],
      "text/plain": [
       "       pdays  was_contacted\n",
       "41183      9              1\n",
       "41184    999              0\n",
       "41185    999              0\n",
       "41186    999              0\n",
       "41187    999              0"
      ]
     },
     "execution_count": 22,
     "metadata": {},
     "output_type": "execute_result"
    }
   ],
   "source": [
    "data['was_contacted'] = data['pdays'].apply(lambda row: 0 if row == 999 else 1)\n",
    "data[['pdays','was_contacted']].tail()"
   ]
  },
  {
   "cell_type": "markdown",
   "id": "5f614218-6be2-4660-8f93-defb61f022da",
   "metadata": {},
   "source": [
    "### month column"
   ]
  },
  {
   "cell_type": "code",
   "execution_count": 23,
   "id": "b938a3fb-3b48-4db0-860b-a516aecac6cc",
   "metadata": {},
   "outputs": [],
   "source": [
    "months = {'jan':1, 'feb':2, 'mar':3, 'apr':4, 'may':5, 'jun':6, 'jul':7, 'aug':8, 'sep':9, 'oct':10, 'nov':11, 'dec': 12}\n",
    "data['month'] = data['month'].map(months)"
   ]
  },
  {
   "cell_type": "code",
   "execution_count": 24,
   "id": "16c67be5-5367-42b4-b6bb-febf7816aa31",
   "metadata": {},
   "outputs": [
    {
     "data": {
      "text/plain": [
       "[5, 6, 7, 8, 10, ..., 12, 3, 4, 9, NaN]\n",
       "Length: 11\n",
       "Categories (10, int64): [4, 8, 12, 7, ..., 5, 11, 10, 9]"
      ]
     },
     "execution_count": 24,
     "metadata": {},
     "output_type": "execute_result"
    }
   ],
   "source": [
    "data['month'].unique()"
   ]
  },
  {
   "cell_type": "code",
   "execution_count": 25,
   "id": "35814a19-654a-4940-a3a7-7d3ec7fe6a23",
   "metadata": {},
   "outputs": [],
   "source": [
    "data_all = data.drop(columns = ['contact', 'month', 'day_of_week', 'duration', 'campaign']) ## remove all campaign columns"
   ]
  },
  {
   "cell_type": "code",
   "execution_count": null,
   "id": "d3454e1e-767b-463a-8b5a-56c95ba0b5b9",
   "metadata": {},
   "outputs": [],
   "source": []
  },
  {
   "cell_type": "markdown",
   "id": "4e5a84fa-d975-49c5-849d-cc6b279ef894",
   "metadata": {},
   "source": [
    "## Save data_all data frame for further processing"
   ]
  },
  {
   "cell_type": "code",
   "execution_count": 26,
   "id": "b7bd44e5-21f1-4af0-8b9d-3f149512d39f",
   "metadata": {},
   "outputs": [
    {
     "data": {
      "text/plain": [
       "(40938, 16)"
      ]
     },
     "execution_count": 26,
     "metadata": {},
     "output_type": "execute_result"
    }
   ],
   "source": [
    "data_all.shape"
   ]
  },
  {
   "cell_type": "code",
   "execution_count": 27,
   "id": "f67231ac-3eb0-45ab-adaa-1103d4835dbf",
   "metadata": {},
   "outputs": [],
   "source": [
    "data_all.to_csv('all_data.csv', index=False)"
   ]
  },
  {
   "cell_type": "markdown",
   "id": "d7a4bb38-8b60-4862-8252-707f75354b54",
   "metadata": {},
   "source": [
    "## Save campaign data for further analysis"
   ]
  },
  {
   "cell_type": "code",
   "execution_count": 28,
   "id": "265feaf1-3122-4365-9e92-e9afb0f4f52d",
   "metadata": {},
   "outputs": [],
   "source": [
    "data_campaign = data[data['test_control_flag'] == 'campaign group']"
   ]
  },
  {
   "cell_type": "code",
   "execution_count": 29,
   "id": "67592bcc-79e8-48c0-8792-ea3639abfa48",
   "metadata": {},
   "outputs": [
    {
     "data": {
      "text/plain": [
       "(16476, 21)"
      ]
     },
     "execution_count": 29,
     "metadata": {},
     "output_type": "execute_result"
    }
   ],
   "source": [
    "data_campaign.shape"
   ]
  },
  {
   "cell_type": "code",
   "execution_count": 30,
   "id": "a03ca1b6-aa40-47e9-83f6-b147cfec15c9",
   "metadata": {},
   "outputs": [],
   "source": [
    "data_campaign.to_csv('campaign_data.csv', index=False)"
   ]
  },
  {
   "cell_type": "code",
   "execution_count": null,
   "id": "5915bc6b-e139-456a-93cf-030016a908b8",
   "metadata": {},
   "outputs": [],
   "source": []
  },
  {
   "cell_type": "markdown",
   "id": "8fca55aa-1ae2-4892-b868-93c8db10eeac",
   "metadata": {},
   "source": [
    "### column reductions for reduced data"
   ]
  },
  {
   "cell_type": "code",
   "execution_count": 31,
   "id": "af81667b-475e-4660-9266-628b916f99bb",
   "metadata": {},
   "outputs": [],
   "source": [
    "data['is_default'] = data['default'].apply(lambda row: 1 if row == 'yes' else 0)"
   ]
  },
  {
   "cell_type": "code",
   "execution_count": 32,
   "id": "9cf897e9-c434-4120-9a15-e01d94ce1cbb",
   "metadata": {},
   "outputs": [],
   "source": [
    "data['is_housing'] = data['housing'].apply(lambda row: 1 if row == 'yes' else 0)"
   ]
  },
  {
   "cell_type": "code",
   "execution_count": 33,
   "id": "c93d2f6d-c309-4d65-ba08-3806f0fde151",
   "metadata": {},
   "outputs": [],
   "source": [
    "data['is_loan'] = data['loan'].apply(lambda row: 1 if row == 'yes' else 0)"
   ]
  },
  {
   "cell_type": "code",
   "execution_count": 34,
   "id": "d3603d79-0720-4553-b03a-0ae17ace6d58",
   "metadata": {},
   "outputs": [
    {
     "data": {
      "text/plain": [
       "(40938, 24)"
      ]
     },
     "execution_count": 34,
     "metadata": {},
     "output_type": "execute_result"
    }
   ],
   "source": [
    "data.shape"
   ]
  },
  {
   "cell_type": "code",
   "execution_count": null,
   "id": "5c034d76-5492-4072-812f-ac857b20e0bb",
   "metadata": {},
   "outputs": [],
   "source": []
  },
  {
   "cell_type": "markdown",
   "id": "267d8d7f-caf9-4e2f-b9a3-2a61347bddec",
   "metadata": {},
   "source": [
    "### drop campaign columns"
   ]
  },
  {
   "cell_type": "code",
   "execution_count": 35,
   "id": "0d2988f9-37c2-4336-a3dd-0f705fba7125",
   "metadata": {},
   "outputs": [
    {
     "data": {
      "text/plain": [
       "(40938, 18)"
      ]
     },
     "execution_count": 35,
     "metadata": {},
     "output_type": "execute_result"
    }
   ],
   "source": [
    "data_all_corr_dropped = data.drop(columns = ['contact', 'month', 'day_of_week', 'duration', 'campaign', 'pdays']) # campaign columns\n",
    "\n",
    "data_all_corr_dropped.shape"
   ]
  },
  {
   "cell_type": "code",
   "execution_count": null,
   "id": "2a5151d5-cdc5-4fbf-b682-e0097cf87ab8",
   "metadata": {},
   "outputs": [],
   "source": []
  },
  {
   "cell_type": "markdown",
   "id": "0afe9114-c811-4524-9897-1818ada2caf1",
   "metadata": {},
   "source": [
    "## Save reduced data frame"
   ]
  },
  {
   "cell_type": "code",
   "execution_count": 36,
   "id": "d68a6314-5370-4b4e-bac0-fdd12b558975",
   "metadata": {},
   "outputs": [],
   "source": [
    "data_all_corr_dropped.to_csv('reduced_data.csv', index=False)"
   ]
  },
  {
   "cell_type": "code",
   "execution_count": 37,
   "id": "1763061b-b449-4622-b782-f994027fbeef",
   "metadata": {},
   "outputs": [
    {
     "name": "stdout",
     "output_type": "stream",
     "text": [
      "Missing columns in data_all_corr_dropped: {'pdays'}\n"
     ]
    }
   ],
   "source": [
    "missing_columns = set(data_all.columns) - set(data_all_corr_dropped.columns)\n",
    "print(\"Missing columns in data_all_corr_dropped:\", missing_columns)"
   ]
  },
  {
   "cell_type": "code",
   "execution_count": 38,
   "id": "ffeebe8c-4461-426e-9e9e-d39ef0cc8156",
   "metadata": {},
   "outputs": [
    {
     "name": "stdout",
     "output_type": "stream",
     "text": [
      "Missing columns in data_all: {'is_default', 'is_loan', 'is_housing'}\n"
     ]
    }
   ],
   "source": [
    "missing_columns = set(data_all_corr_dropped.columns) - set(data_all.columns)\n",
    "print(\"Missing columns in data_all:\", missing_columns)"
   ]
  },
  {
   "cell_type": "code",
   "execution_count": 39,
   "id": "c948d847-e30e-4f31-bdb0-3fcb04b728cd",
   "metadata": {},
   "outputs": [
    {
     "data": {
      "text/plain": [
       "{'is_default', 'is_housing', 'is_loan', 'pdays'}"
      ]
     },
     "execution_count": 39,
     "metadata": {},
     "output_type": "execute_result"
    }
   ],
   "source": [
    "# Print the differing column names\n",
    "differing_column = set(data_all_corr_dropped.columns) ^ set(data_all.columns)\n",
    "\n",
    "\n",
    "differing_column"
   ]
  }
 ],
 "metadata": {
  "kernelspec": {
   "display_name": "Python 3 (ipykernel)",
   "language": "python",
   "name": "python3"
  },
  "language_info": {
   "codemirror_mode": {
    "name": "ipython",
    "version": 3
   },
   "file_extension": ".py",
   "mimetype": "text/x-python",
   "name": "python",
   "nbconvert_exporter": "python",
   "pygments_lexer": "ipython3",
   "version": "3.9.7"
  }
 },
 "nbformat": 4,
 "nbformat_minor": 5
}

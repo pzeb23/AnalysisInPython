{
 "cells": [
  {
   "cell_type": "code",
   "execution_count": 1,
   "metadata": {},
   "outputs": [],
   "source": [
    "import twitter"
   ]
  },
  {
   "cell_type": "code",
   "execution_count": 5,
   "metadata": {},
   "outputs": [],
   "source": [
    "ACCESS_TOKEN = '1256542171676774401-VZ2HpwfcJ6lBuOIZUIYceL5ttRBrr7'\n",
    "ACCESS_SECRET = 'eN9MpuFPWqxCODKHsM0TTUiaW4wKNEji06suO7UZYGDvI'\n",
    "CONSUMER_KEY = 'vNKTn8rUGUt4HNRYRCVY4R4N4'\n",
    "CONSUMER_SECRET = 'QMM5zeJPTU0TJWVQAdZQZelLF8qC0017dadu8JBoVxovNf95jX'"
   ]
  },
  {
   "cell_type": "code",
   "execution_count": 6,
   "metadata": {},
   "outputs": [],
   "source": [
    "t = twitter.Api(consumer_key=CONSUMER_KEY,\n",
    "                consumer_secret=CONSUMER_SECRET,\n",
    "                access_token_key=ACCESS_TOKEN,\n",
    "                access_token_secret=ACCESS_SECRET)"
   ]
  },
  {
   "cell_type": "code",
   "execution_count": 11,
   "metadata": {},
   "outputs": [],
   "source": [
    "results = t.GetSearch(raw_query=\"q=from%Trump&src=typd\")"
   ]
  },
  {
   "cell_type": "code",
   "execution_count": 12,
   "metadata": {},
   "outputs": [
    {
     "data": {
      "text/plain": [
       "[Status(ID=1312787869749194755, ScreenName=nomejoda203, Created=Sun Oct 04 16:13:13 +0000 2020, Text=\"RT @mmpadellan: This doctor just said they might discharge trump from Walter Reed by tomorrow. I can't believe a word out of any of them, t…\"),\n",
       " Status(ID=1312787869208018945, ScreenName=heyyoitssophie, Created=Sun Oct 04 16:13:13 +0000 2020, Text='RT @jordanzakarin: To help Donald Trump get the full COVID-19 experience, let’s make sure he loses his job and is evicted from his home nex…'),\n",
       " Status(ID=1312787869073846272, ScreenName=patriot_redneck, Created=Sun Oct 04 16:13:13 +0000 2020, Text='RT @my3monkees: Joe Biden has already called a lid for today. Meanwhile President Trump is sick with Covid and working from the hospital. h…'),\n",
       " Status(ID=1312787868721577984, ScreenName=termlife77, Created=Sun Oct 04 16:13:12 +0000 2020, Text='RT @WayneDupreeShow: 🗞 NEWS: President Donald Trump may be discharged from the hospital as soon as Monday as he recuperates from Covid-19,…'),\n",
       " Status(ID=1312787868721442816, ScreenName=prettyeyes4u62, Created=Sun Oct 04 16:13:12 +0000 2020, Text=\"RT @mmpadellan: This doctor just said they might discharge trump from Walter Reed by tomorrow. I can't believe a word out of any of them, t…\"),\n",
       " Status(ID=1312787868566401025, ScreenName=PunkinDawn, Created=Sun Oct 04 16:13:12 +0000 2020, Text='RT @jordanzakarin: To help Donald Trump get the full COVID-19 experience, let’s make sure he loses his job and is evicted from his home nex…'),\n",
       " Status(ID=1312787867647782913, ScreenName=skrbelly1, Created=Sun Oct 04 16:13:12 +0000 2020, Text='@TimOBrien Ask Conley who Trump owes half a billion to and where are his tax returns and why is he stealing the Ute… https://t.co/8OcPqKHX46'),\n",
       " Status(ID=1312787867496787968, ScreenName=kaylari07218915, Created=Sun Oct 04 16:13:12 +0000 2020, Text='RT @johniadarola: To any MAGA heads who will take Trump\\'s eventual recovery from covid-19 as proof that it\\'s \"not that bad\" - bear in mind…'),\n",
       " Status(ID=1312787866049810434, ScreenName=AnnieYuTV, Created=Sun Oct 04 16:13:12 +0000 2020, Text=\"One of the doctor's on the president's medical team hinted at a slight possibility he could be released from the ho… https://t.co/OTNjpPVZOG\"),\n",
       " Status(ID=1312787865299025921, ScreenName=RWLawsonFL, Created=Sun Oct 04 16:13:12 +0000 2020, Text='RT @Para_Doc: Does Trump look pale in his video or is it my WiFi connection? He also sounds subdued. Maybe that’s from the “minor thing” he…'),\n",
       " Status(ID=1312787865122693125, ScreenName=MoJamesApted, Created=Sun Oct 04 16:13:12 +0000 2020, Text='RT @AP: BREAKING: Doctor says President Trump could be discharged from the hospital as soon as Monday as his condition continues to improve…'),\n",
       " Status(ID=1312787864665632768, ScreenName=JillHoneywell, Created=Sun Oct 04 16:13:12 +0000 2020, Text='RT @BillKristol: I hope President Trump has a swift and complete recovery from COVID.\\nI hope the United States has a swift and complete rec…'),\n",
       " Status(ID=1312787863965138954, ScreenName=jmruiz96, Created=Sun Oct 04 16:13:11 +0000 2020, Text='RT @jordanzakarin: To help Donald Trump get the full COVID-19 experience, let’s make sure he loses his job and is evicted from his home nex…'),\n",
       " Status(ID=1312787863612907520, ScreenName=frannygirld, Created=Sun Oct 04 16:13:11 +0000 2020, Text=\"RT @LeonaLioness6: To be clear, I don't hope trump dies from covid. I wouldn't wish that on anyone. I hope he beats it so he can go to pris…\"),\n",
       " Status(ID=1312787863302557696, ScreenName=krablegg, Created=Sun Oct 04 16:13:11 +0000 2020, Text=\"RT @mmpadellan: This doctor just said they might discharge trump from Walter Reed by tomorrow. I can't believe a word out of any of them, t…\")]"
      ]
     },
     "execution_count": 12,
     "metadata": {},
     "output_type": "execute_result"
    }
   ],
   "source": [
    "results"
   ]
  },
  {
   "cell_type": "code",
   "execution_count": null,
   "metadata": {},
   "outputs": [],
   "source": []
  }
 ],
 "metadata": {
  "kernelspec": {
   "display_name": "Python 3",
   "language": "python",
   "name": "python3"
  },
  "language_info": {
   "codemirror_mode": {
    "name": "ipython",
    "version": 3
   },
   "file_extension": ".py",
   "mimetype": "text/x-python",
   "name": "python",
   "nbconvert_exporter": "python",
   "pygments_lexer": "ipython3",
   "version": "3.7.6"
  }
 },
 "nbformat": 4,
 "nbformat_minor": 4
}

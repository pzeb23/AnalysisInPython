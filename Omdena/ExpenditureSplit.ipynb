{
 "cells": [
  {
   "cell_type": "code",
   "execution_count": 55,
   "metadata": {},
   "outputs": [],
   "source": [
    "import pandas as pd"
   ]
  },
  {
   "cell_type": "code",
   "execution_count": 56,
   "metadata": {},
   "outputs": [],
   "source": [
    "adjusted_lastq = pd.read_csv('Adjusted_Expenditure_Last_Quater.csv')\n",
    "adjusted_thisq = pd.read_csv('Adjusted_Expenditure_This_Quater.csv')\n",
    "total_expen_lastq = pd.read_csv('Total_Expenditure_Last_Quater.csv')\n",
    "total_expen_thisq = pd.read_csv('Total_Expenditure_This_Quater.csv')\n",
    "trip_expen_lastq = pd.read_csv('Trip_Expenditure_This_Quater.csv')\n",
    "trip_expen_thisq = pd.read_csv('Trip_Expenditure_Last_Quater.csv')\n",
    "vacation_house_lastq = pd.read_csv('Vacation_House_Last_Quater.csv')\n",
    "vacation_house_thisq = pd.read_csv('Vacation_House_This_Quater.csv')"
   ]
  },
  {
   "cell_type": "code",
   "execution_count": 57,
   "metadata": {},
   "outputs": [],
   "source": [
    "def subgroup_features(subgroup):\n",
    "    #subgroup_feat = ['NEWID']\n",
    "    subgroup_feat = []\n",
    "    for i, k in enumerate(subgroup[['Variable Name', 'Flag name']].values):\n",
    "        subgroup_feat += list(k)\n",
    "    return(subgroup_feat)"
   ]
  },
  {
   "cell_type": "code",
   "execution_count": 58,
   "metadata": {},
   "outputs": [],
   "source": [
    "adjusted_lastq_feat = subgroup_features(adjusted_lastq)\n",
    "adjusted_thisq_feat = subgroup_features(adjusted_thisq)\n",
    "total_expen_lastq_feat = subgroup_features(total_expen_lastq)\n",
    "total_expen_thisq_feat = subgroup_features(total_expen_thisq)\n",
    "trip_expen_lastq_feat = subgroup_features(trip_expen_lastq)\n",
    "trip_expen_thisq_feat = subgroup_features(trip_expen_thisq)\n",
    "vacation_house_lastq_feat = subgroup_features(vacation_house_lastq)\n",
    "vacation_house_thisq_feat = subgroup_features(vacation_house_thisq)"
   ]
  },
  {
   "cell_type": "code",
   "execution_count": 59,
   "metadata": {},
   "outputs": [],
   "source": [
    "year = ['132', '133', '134', '141', '141x', '142', '143', '144', '151', '151x', '152', '153', '154', '161', '161x', '162',\n",
    "        '163', '164', '171', '171x', '172', '173', '174', '181', '181x', '182', '183', '184', '191']\n",
    "file_name = []\n",
    "for i in year:\n",
    "    file_name += ['/Users/imac/Downloads/OmdenaData/Task 3/DATA/fmli132.csv'.replace('132', i)]"
   ]
  },
  {
   "cell_type": "code",
   "execution_count": 60,
   "metadata": {},
   "outputs": [],
   "source": [
    "def Split_subgroups(subgroup_feat):\n",
    "    df = pd.DataFrame()\n",
    "    for i in file_name:\n",
    "        #dfn = pd.read_csv(i, low_memory = False).loc[:, subgroup_feat]\n",
    "        dfn = pd.read_csv(i, low_memory = False)[subgroup_feat]\n",
    "        dfn['Year'] = int(i[-7:-5]) + 2000\n",
    "        dfn['Quarter'] = i[-5]\n",
    "        df = df.append(dfn)\n",
    "    df = df.drop_duplicates(subset = ['NEWID', 'Year', 'Quarter'], keep = 'last').reset_index(drop = True)\n",
    "    return(df)"
   ]
  },
  {
   "cell_type": "code",
   "execution_count": 66,
   "metadata": {},
   "outputs": [],
   "source": [
    "adjusted_lastq_feat = [x for x in adjusted_lastq_feat if str(x) != 'nan']\n",
    "adjusted_thisq_feat = [x for x in adjusted_thisq_feat if str(x) != 'nan']\n",
    "total_expen_lastq_feat =[x for x in total_expen_lastq_feat if str(x) != 'nan']\n",
    "total_expen_thisq_feat = [x for x in total_expen_thisq_feat if str(x) != 'nan']\n",
    "trip_expen_lastq_feat = [x for x in trip_expen_lastq_feat if str(x) != 'nan']\n",
    "trip_expen_thisq_feat = [x for x in trip_expen_thisq_feat if str(x) != 'nan']\n",
    "vacation_house_lastq_feat = [x for x in vacation_house_lastq_feat if str(x) != 'nan']\n",
    "vacation_house_thisq_feat = [x for x in vacation_house_thisq_feat if str(x) != 'nan']"
   ]
  },
  {
   "cell_type": "code",
   "execution_count": 67,
   "metadata": {},
   "outputs": [],
   "source": [
    "adjusted_lastq_split = Split_subgroups(adjusted_lastq_feat)\n",
    "adjusted_thisq_split = Split_subgroups(adjusted_lastq_feat)\n",
    "total_expen_lastq_split = Split_subgroups(total_expen_lastq_feat)\n",
    "total_expen_thisq_split = Split_subgroups(total_expen_thisq_feat)\n",
    "trip_expen_lastq_split = Split_subgroups(trip_expen_lastq_feat)\n",
    "trip_expen_thisq_split = Split_subgroups(trip_expen_thisq_feat)\n",
    "vacation_house_lastq_split = Split_subgroups(vacation_house_lastq_feat)\n",
    "vacation_house_thisq_split = Split_subgroups(vacation_house_thisq_feat)"
   ]
  },
  {
   "cell_type": "code",
   "execution_count": 69,
   "metadata": {},
   "outputs": [],
   "source": [
    "adjusted_lastq_split.to_csv('Adjusted_Expenditure_LastQ_Split.csv', index = False)\n",
    "adjusted_thisq_split.to_csv('Adjusted_Expenditure_ThisQ_Split.csv', index = False)\n",
    "total_expen_lastq_split.to_csv('Total_Expen_LastQ.csv', index = False)\n",
    "total_expen_thisq_split.to_csv('Total_Expen_ThisQ.csv', index = False)\n",
    "trip_expen_lastq_split.to_csv('Trip_Expen_LastQ.csv', index = False)\n",
    "trip_expen_thisq_split.to_csv('Trip_Expen_ThisQ.csv', index = False)\n",
    "vacation_house_lastq_split.to_csv('Vacation_House_LastQ.csv', index = False)\n",
    "vacation_house_thisq_split.to_csv('Vacation_House_ThisQ.csv', index = False)"
   ]
  },
  {
   "cell_type": "code",
   "execution_count": null,
   "metadata": {},
   "outputs": [],
   "source": []
  }
 ],
 "metadata": {
  "kernelspec": {
   "display_name": "Python 3",
   "language": "python",
   "name": "python3"
  },
  "language_info": {
   "codemirror_mode": {
    "name": "ipython",
    "version": 3
   },
   "file_extension": ".py",
   "mimetype": "text/x-python",
   "name": "python",
   "nbconvert_exporter": "python",
   "pygments_lexer": "ipython3",
   "version": "3.7.6"
  }
 },
 "nbformat": 4,
 "nbformat_minor": 4
}

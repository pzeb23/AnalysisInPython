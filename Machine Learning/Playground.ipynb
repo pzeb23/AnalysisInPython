{
 "cells": [
  {
   "cell_type": "code",
   "execution_count": 58,
   "id": "8d2995fd-bf63-4a9f-8786-1af0b66a0242",
   "metadata": {},
   "outputs": [],
   "source": [
    "import numpy as np"
   ]
  },
  {
   "cell_type": "code",
   "execution_count": 59,
   "id": "fb595134-19c1-4683-a086-7d506a464d2a",
   "metadata": {},
   "outputs": [
    {
     "name": "stdout",
     "output_type": "stream",
     "text": [
      "8\n",
      "4\n",
      "0\n"
     ]
    }
   ],
   "source": [
    "my_list = [9, 8, 3, 4, 5, 1, 9, 0, 23]\n",
    "\n",
    "def ReturnEvenNumbers(x):\n",
    "    for value in my_list:\n",
    "        if value % 2 == 0:\n",
    "            print(value)\n",
    "            \n",
    "ReturnEvenNumbers(my_list)  "
   ]
  },
  {
   "cell_type": "code",
   "execution_count": 60,
   "id": "682c23f9-13df-4896-8a9f-ad785f7a3e16",
   "metadata": {},
   "outputs": [
    {
     "data": {
      "text/html": [
       "<div>\n",
       "<style scoped>\n",
       "    .dataframe tbody tr th:only-of-type {\n",
       "        vertical-align: middle;\n",
       "    }\n",
       "\n",
       "    .dataframe tbody tr th {\n",
       "        vertical-align: top;\n",
       "    }\n",
       "\n",
       "    .dataframe thead th {\n",
       "        text-align: right;\n",
       "    }\n",
       "</style>\n",
       "<table border=\"1\" class=\"dataframe\">\n",
       "  <thead>\n",
       "    <tr style=\"text-align: right;\">\n",
       "      <th></th>\n",
       "      <th>Years Experience</th>\n",
       "      <th>Employed?</th>\n",
       "      <th>Previous employers</th>\n",
       "      <th>Level of Education</th>\n",
       "      <th>Top-tier school</th>\n",
       "      <th>Interned</th>\n",
       "      <th>Hired</th>\n",
       "    </tr>\n",
       "  </thead>\n",
       "  <tbody>\n",
       "    <tr>\n",
       "      <th>0</th>\n",
       "      <td>10</td>\n",
       "      <td>Y</td>\n",
       "      <td>4</td>\n",
       "      <td>BS</td>\n",
       "      <td>N</td>\n",
       "      <td>N</td>\n",
       "      <td>Y</td>\n",
       "    </tr>\n",
       "    <tr>\n",
       "      <th>1</th>\n",
       "      <td>0</td>\n",
       "      <td>N</td>\n",
       "      <td>0</td>\n",
       "      <td>BS</td>\n",
       "      <td>Y</td>\n",
       "      <td>Y</td>\n",
       "      <td>Y</td>\n",
       "    </tr>\n",
       "    <tr>\n",
       "      <th>2</th>\n",
       "      <td>7</td>\n",
       "      <td>N</td>\n",
       "      <td>6</td>\n",
       "      <td>BS</td>\n",
       "      <td>N</td>\n",
       "      <td>N</td>\n",
       "      <td>N</td>\n",
       "    </tr>\n",
       "    <tr>\n",
       "      <th>3</th>\n",
       "      <td>2</td>\n",
       "      <td>Y</td>\n",
       "      <td>1</td>\n",
       "      <td>MS</td>\n",
       "      <td>Y</td>\n",
       "      <td>N</td>\n",
       "      <td>Y</td>\n",
       "    </tr>\n",
       "    <tr>\n",
       "      <th>4</th>\n",
       "      <td>20</td>\n",
       "      <td>N</td>\n",
       "      <td>2</td>\n",
       "      <td>PhD</td>\n",
       "      <td>Y</td>\n",
       "      <td>N</td>\n",
       "      <td>N</td>\n",
       "    </tr>\n",
       "  </tbody>\n",
       "</table>\n",
       "</div>"
      ],
      "text/plain": [
       "   Years Experience Employed?  Previous employers Level of Education  \\\n",
       "0                10         Y                   4                 BS   \n",
       "1                 0         N                   0                 BS   \n",
       "2                 7         N                   6                 BS   \n",
       "3                 2         Y                   1                 MS   \n",
       "4                20         N                   2                PhD   \n",
       "\n",
       "  Top-tier school Interned Hired  \n",
       "0               N        N     Y  \n",
       "1               Y        Y     Y  \n",
       "2               N        N     N  \n",
       "3               Y        N     Y  \n",
       "4               Y        N     N  "
      ]
     },
     "execution_count": 60,
     "metadata": {},
     "output_type": "execute_result"
    }
   ],
   "source": [
    "%matplotlib inline\n",
    "import numpy as np\n",
    "import pandas as pd\n",
    "\n",
    "df = pd.read_csv(\"MLCourse/PastHires.csv\")\n",
    "df.head()"
   ]
  },
  {
   "cell_type": "code",
   "execution_count": 61,
   "id": "e15ed9ab-006b-4a55-bcbd-3c4791426576",
   "metadata": {},
   "outputs": [
    {
     "data": {
      "text/plain": [
       "BS     7\n",
       "PhD    4\n",
       "MS     2\n",
       "Name: Level of Education, dtype: int64"
      ]
     },
     "execution_count": 61,
     "metadata": {},
     "output_type": "execute_result"
    }
   ],
   "source": [
    "degree_counts = df['Level of Education'].value_counts()\n",
    "degree_counts"
   ]
  },
  {
   "cell_type": "code",
   "execution_count": 62,
   "id": "7eb8d29d-c68d-49af-b39c-5eb2aaebb92d",
   "metadata": {},
   "outputs": [
    {
     "data": {
      "text/plain": [
       "<AxesSubplot:>"
      ]
     },
     "execution_count": 62,
     "metadata": {},
     "output_type": "execute_result"
    },
    {
     "data": {
      "image/png": "[encoded data removed]",
      "text/plain": [
       "<Figure size 432x288 with 1 Axes>"
      ]
     },
     "metadata": {
      "needs_background": "light"
     },
     "output_type": "display_data"
    }
   ],
   "source": [
    "degree_counts.plot(kind = 'bar')"
   ]
  },
  {
   "cell_type": "code",
   "execution_count": 63,
   "id": "f1b826ba-955c-4a0d-81c7-e7d074db1c4c",
   "metadata": {},
   "outputs": [],
   "source": [
    "## histogram df[['Previous employers', 'Employed']][5:11]"
   ]
  },
  {
   "cell_type": "code",
   "execution_count": 66,
   "id": "d3f36e34-6648-412e-9a62-9a52742d2cfa",
   "metadata": {},
   "outputs": [],
   "source": [
    "new_df = df[['Previous employers', 'Hired']][5:11]"
   ]
  },
  {
   "cell_type": "code",
   "execution_count": 68,
   "id": "fed8a052-9b96-46a5-9ac6-cffc3edcb35a",
   "metadata": {},
   "outputs": [
    {
     "data": {
      "text/html": [
       "<div>\n",
       "<style scoped>\n",
       "    .dataframe tbody tr th:only-of-type {\n",
       "        vertical-align: middle;\n",
       "    }\n",
       "\n",
       "    .dataframe tbody tr th {\n",
       "        vertical-align: top;\n",
       "    }\n",
       "\n",
       "    .dataframe thead th {\n",
       "        text-align: right;\n",
       "    }\n",
       "</style>\n",
       "<table border=\"1\" class=\"dataframe\">\n",
       "  <thead>\n",
       "    <tr style=\"text-align: right;\">\n",
       "      <th></th>\n",
       "      <th>Previous employers</th>\n",
       "      <th>Hired</th>\n",
       "    </tr>\n",
       "  </thead>\n",
       "  <tbody>\n",
       "    <tr>\n",
       "      <th>5</th>\n",
       "      <td>0</td>\n",
       "      <td>Y</td>\n",
       "    </tr>\n",
       "    <tr>\n",
       "      <th>6</th>\n",
       "      <td>2</td>\n",
       "      <td>Y</td>\n",
       "    </tr>\n",
       "    <tr>\n",
       "      <th>7</th>\n",
       "      <td>1</td>\n",
       "      <td>Y</td>\n",
       "    </tr>\n",
       "    <tr>\n",
       "      <th>8</th>\n",
       "      <td>5</td>\n",
       "      <td>Y</td>\n",
       "    </tr>\n",
       "    <tr>\n",
       "      <th>9</th>\n",
       "      <td>0</td>\n",
       "      <td>N</td>\n",
       "    </tr>\n",
       "    <tr>\n",
       "      <th>10</th>\n",
       "      <td>1</td>\n",
       "      <td>N</td>\n",
       "    </tr>\n",
       "  </tbody>\n",
       "</table>\n",
       "</div>"
      ],
      "text/plain": [
       "    Previous employers Hired\n",
       "5                    0     Y\n",
       "6                    2     Y\n",
       "7                    1     Y\n",
       "8                    5     Y\n",
       "9                    0     N\n",
       "10                   1     N"
      ]
     },
     "execution_count": 68,
     "metadata": {},
     "output_type": "execute_result"
    }
   ],
   "source": [
    "new_df"
   ]
  },
  {
   "cell_type": "code",
   "execution_count": 67,
   "id": "bd1b3838-5e68-4219-b896-2b5c96472221",
   "metadata": {},
   "outputs": [
    {
     "data": {
      "text/plain": [
       "<AxesSubplot:ylabel='Frequency'>"
      ]
     },
     "execution_count": 67,
     "metadata": {},
     "output_type": "execute_result"
    },
    {
     "data": {
      "image/png": "[encoded data removed]",
      "text/plain": [
       "<Figure size 432x288 with 1 Axes>"
      ]
     },
     "metadata": {
      "needs_background": "light"
     },
     "output_type": "display_data"
    }
   ],
   "source": [
    "new_df.plot(kind = 'hist')"
   ]
  },
  {
   "cell_type": "code",
   "execution_count": null,
   "id": "c4d50617-6a95-419c-a445-be2f346e6dd6",
   "metadata": {},
   "outputs": [],
   "source": []
  },
  {
   "cell_type": "code",
   "execution_count": 41,
   "id": "c02a728e-dc21-4eee-b98e-4199f97823bf",
   "metadata": {},
   "outputs": [
    {
     "data": {
      "text/plain": [
       "27116.193764708758"
      ]
     },
     "execution_count": 41,
     "metadata": {},
     "output_type": "execute_result"
    }
   ],
   "source": [
    "incomes = np.random.normal(27000, 15000, 10000)\n",
    "np.mean(incomes)"
   ]
  },
  {
   "cell_type": "code",
   "execution_count": 43,
   "id": "5aec9e6e-f52a-4d12-8142-ebce3695ea56",
   "metadata": {},
   "outputs": [
    {
     "data": {
      "image/png": "[encoded data removed]",
      "text/plain": [
       "<Figure size 432x288 with 1 Axes>"
      ]
     },
     "metadata": {
      "needs_background": "light"
     },
     "output_type": "display_data"
    }
   ],
   "source": [
    "%matplotlib inline\n",
    "import matplotlib.pyplot as plt\n",
    "plt.hist(incomes, 50)\n",
    "plt.show()"
   ]
  },
  {
   "cell_type": "code",
   "execution_count": 44,
   "id": "62e647b7-a62e-4099-9cfb-f67f0751919a",
   "metadata": {},
   "outputs": [
    {
     "data": {
      "text/plain": [
       "27201.37776140328"
      ]
     },
     "execution_count": 44,
     "metadata": {},
     "output_type": "execute_result"
    }
   ],
   "source": [
    "np.median(incomes)"
   ]
  },
  {
   "cell_type": "code",
   "execution_count": 45,
   "id": "c656f026-b999-488c-af45-47a596d19f2c",
   "metadata": {},
   "outputs": [],
   "source": [
    "incomes = np.append(incomes, [1000000000])"
   ]
  },
  {
   "cell_type": "code",
   "execution_count": 46,
   "id": "b36321b1-52bc-4b6a-b6b0-a20268b8c450",
   "metadata": {},
   "outputs": [
    {
     "data": {
      "text/plain": [
       "27203.21158753095"
      ]
     },
     "execution_count": 46,
     "metadata": {},
     "output_type": "execute_result"
    }
   ],
   "source": [
    "np.median(incomes)"
   ]
  },
  {
   "cell_type": "code",
   "execution_count": 47,
   "id": "2421e670-01a6-4835-835e-b539d11db4f7",
   "metadata": {},
   "outputs": [
    {
     "data": {
      "text/plain": [
       "127103.48341636712"
      ]
     },
     "execution_count": 47,
     "metadata": {},
     "output_type": "execute_result"
    }
   ],
   "source": [
    "np.mean(incomes)"
   ]
  },
  {
   "cell_type": "code",
   "execution_count": 55,
   "id": "0d01e682-9740-4aab-94eb-6227a2fdc11c",
   "metadata": {},
   "outputs": [
    {
     "data": {
      "text/plain": [
       "array([22, 27, 19, 89, 58, 80, 55, 31, 71, 76, 44, 39, 28, 27, 59, 62, 77,\n",
       "       66, 86, 20, 26, 24, 76, 21, 43, 75, 75, 27, 59, 28, 31, 88, 66, 65,\n",
       "       83, 49, 28, 18, 60, 88, 60, 70, 62, 59, 82, 56, 67, 67, 31, 80, 34,\n",
       "       30, 68, 65, 22, 35, 34, 29, 70, 29, 65, 70, 31, 25, 35, 43, 86, 86,\n",
       "       47, 33, 36, 33, 40, 68, 73, 63, 81, 82, 77, 29, 71, 81, 53, 89, 72,\n",
       "       80, 62, 36, 70, 38, 20, 52, 27, 57, 26, 62, 40, 84, 56, 18, 40, 51,\n",
       "       36, 46, 46, 70, 31, 61, 26, 85, 89, 68, 36, 34, 43, 70, 77, 33, 38,\n",
       "       55, 33, 33, 88, 60, 88, 19, 79, 49, 34, 79, 89, 24, 29, 29, 52, 18,\n",
       "       83, 74, 62, 20, 76, 87, 83, 87, 21, 19, 66, 38, 38, 87, 86, 20, 23,\n",
       "       28, 54, 88, 19, 60, 23, 55, 52, 66, 87, 22, 28, 22, 51, 26, 30, 36,\n",
       "       80, 46, 61, 48, 65, 59, 54, 73, 62, 59, 77, 51, 35, 71, 35, 66, 84,\n",
       "       40, 67, 74, 68, 67, 45, 66, 68, 19, 74, 68, 89, 80, 22, 18, 49, 60,\n",
       "       29, 62, 78, 60, 27, 48, 66, 86, 63, 48, 71, 89, 73, 61, 55, 22, 52,\n",
       "       85, 38, 65, 68, 80, 38, 27, 46, 24, 27, 28, 25, 67, 73, 49, 82, 60,\n",
       "       22, 49, 83, 78, 63, 88, 21, 57, 37, 83, 34, 85, 72, 32, 70, 75, 76,\n",
       "       27, 71, 88, 58, 74, 64, 49, 79, 52, 43, 65, 26, 52, 45, 43, 57, 50,\n",
       "       51, 62, 21, 89, 69, 67, 76, 39, 65, 80, 39, 38, 57, 71, 57, 46, 65,\n",
       "       86, 51, 45, 36, 82, 67, 67, 65, 27, 50, 49, 28, 44, 81, 67, 27, 20,\n",
       "       85, 51, 26, 21, 38, 36, 51, 54, 48, 77, 58, 49, 69, 78, 81, 28, 65,\n",
       "       29, 44, 64, 84, 69, 38, 55, 42, 20, 28, 78, 55, 21, 20, 64, 43, 24,\n",
       "       47, 55, 84, 84, 21, 83, 39, 83, 60, 86, 85, 62, 57, 82, 88, 29, 56,\n",
       "       84, 53, 88, 58, 40, 21, 60, 60, 67, 25, 75, 53, 63, 42, 20, 38, 49,\n",
       "       52, 87, 65, 42, 52, 86, 27, 73, 44, 62, 36, 79, 40, 86, 29, 28, 83,\n",
       "       26, 37, 30, 72, 35, 67, 76, 29, 54, 89, 20, 32, 71, 78, 81, 82, 51,\n",
       "       40, 56, 22, 23, 55, 66, 70, 80, 85, 27, 22, 75, 55, 36, 18, 47, 44,\n",
       "       35, 43, 68, 70, 79, 31, 62, 86, 63, 69, 78, 68, 65, 43, 19, 46, 59,\n",
       "       63, 58, 73, 75, 80, 57, 22, 63, 59, 19, 30, 51, 41, 39, 59, 34, 75,\n",
       "       63, 44, 76, 56, 41, 29, 36, 43, 34, 19, 58, 39, 62, 44, 32, 40, 39,\n",
       "       46, 44, 18, 80, 50, 38, 19, 80, 25, 57, 23, 55, 88, 59, 28, 36, 68,\n",
       "       75, 31, 58, 72, 87, 43, 25])"
      ]
     },
     "execution_count": 55,
     "metadata": {},
     "output_type": "execute_result"
    }
   ],
   "source": [
    "ages = np.random.randint(18, high = 90, size = 500)\n",
    "ages"
   ]
  },
  {
   "cell_type": "code",
   "execution_count": 56,
   "id": "2879a6ba-1edd-411b-90cc-09837a7fb8d4",
   "metadata": {},
   "outputs": [
    {
     "data": {
      "text/plain": [
       "ModeResult(mode=array([27]), count=array([12]))"
      ]
     },
     "execution_count": 56,
     "metadata": {},
     "output_type": "execute_result"
    }
   ],
   "source": [
    "from scipy import stats\n",
    "stats.mode(ages)"
   ]
  },
  {
   "cell_type": "code",
   "execution_count": null,
   "id": "04c30dd0-2579-4a8a-ac0e-9657d21ab2c4",
   "metadata": {},
   "outputs": [],
   "source": []
  }
 ],
 "metadata": {
  "kernelspec": {
   "display_name": "Python 3 (ipykernel)",
   "language": "python",
   "name": "python3"
  },
  "language_info": {
   "codemirror_mode": {
    "name": "ipython",
    "version": 3
   },
   "file_extension": ".py",
   "mimetype": "text/x-python",
   "name": "python",
   "nbconvert_exporter": "python",
   "pygments_lexer": "ipython3",
   "version": "3.9.7"
  }
 },
 "nbformat": 4,
 "nbformat_minor": 5
}
